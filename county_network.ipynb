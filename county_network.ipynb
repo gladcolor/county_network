{
  "nbformat": 4,
  "nbformat_minor": 0,
  "metadata": {
    "colab": {
      "name": "county_network.ipynb",
      "provenance": [],
      "collapsed_sections": [],
      "toc_visible": true,
      "authorship_tag": "ABX9TyMSuQ1od1kp6F3WQ/Q22fsS",
      "include_colab_link": true
    },
    "kernelspec": {
      "name": "python3",
      "display_name": "Python 3"
    },
    "language_info": {
      "name": "python"
    }
  },
  "cells": [
    {
      "cell_type": "markdown",
      "metadata": {
        "id": "view-in-github",
        "colab_type": "text"
      },
      "source": [
        "<a href=\"https://colab.research.google.com/github/gladcolor/county_network/blob/master/county_network.ipynb\" target=\"_parent\"><img src=\"https://colab.research.google.com/assets/colab-badge.svg\" alt=\"Open In Colab\"/></a>"
      ]
    },
    {
      "cell_type": "markdown",
      "metadata": {
        "id": "RGxxHuX6UBQL"
      },
      "source": [
        "# Prepare data"
      ]
    },
    {
      "cell_type": "markdown",
      "metadata": {
        "id": "XJqURLEORHxw"
      },
      "source": [
        "## Install packages"
      ]
    },
    {
      "cell_type": "code",
      "metadata": {
        "colab": {
          "base_uri": "https://localhost:8080/"
        },
        "id": "G4VvzuvMvQeN",
        "outputId": "99502704-be93-4898-f283-ff5bf761facc"
      },
      "source": [
        "! pip install plotly\n",
        "! pip install plotly-geo\n",
        "! pip install geopandas\n",
        "! pip install pyshp\n",
        "! pip install shapely\n",
        "! pip install wget"
      ],
      "execution_count": 76,
      "outputs": [
        {
          "output_type": "stream",
          "text": [
            "Requirement already satisfied: plotly in /usr/local/lib/python3.7/dist-packages (4.4.1)\n",
            "Requirement already satisfied: retrying>=1.3.3 in /usr/local/lib/python3.7/dist-packages (from plotly) (1.3.3)\n",
            "Requirement already satisfied: six in /usr/local/lib/python3.7/dist-packages (from plotly) (1.15.0)\n",
            "Requirement already satisfied: plotly-geo in /usr/local/lib/python3.7/dist-packages (1.0.0)\n",
            "Requirement already satisfied: geopandas in /usr/local/lib/python3.7/dist-packages (0.9.0)\n",
            "Requirement already satisfied: shapely>=1.6 in /usr/local/lib/python3.7/dist-packages (from geopandas) (1.6.3)\n",
            "Requirement already satisfied: pandas>=0.24.0 in /usr/local/lib/python3.7/dist-packages (from geopandas) (1.1.5)\n",
            "Requirement already satisfied: fiona>=1.8 in /usr/local/lib/python3.7/dist-packages (from geopandas) (1.8.19)\n",
            "Requirement already satisfied: pyproj>=2.2.0 in /usr/local/lib/python3.7/dist-packages (from geopandas) (3.1.0)\n",
            "Requirement already satisfied: python-dateutil>=2.7.3 in /usr/local/lib/python3.7/dist-packages (from pandas>=0.24.0->geopandas) (2.8.1)\n",
            "Requirement already satisfied: pytz>=2017.2 in /usr/local/lib/python3.7/dist-packages (from pandas>=0.24.0->geopandas) (2018.9)\n",
            "Requirement already satisfied: numpy>=1.15.4 in /usr/local/lib/python3.7/dist-packages (from pandas>=0.24.0->geopandas) (1.19.5)\n",
            "Requirement already satisfied: certifi in /usr/local/lib/python3.7/dist-packages (from fiona>=1.8->geopandas) (2020.12.5)\n",
            "Requirement already satisfied: click<8,>=4.0 in /usr/local/lib/python3.7/dist-packages (from fiona>=1.8->geopandas) (7.1.2)\n",
            "Requirement already satisfied: attrs>=17 in /usr/local/lib/python3.7/dist-packages (from fiona>=1.8->geopandas) (21.2.0)\n",
            "Requirement already satisfied: cligj>=0.5 in /usr/local/lib/python3.7/dist-packages (from fiona>=1.8->geopandas) (0.7.1)\n",
            "Requirement already satisfied: six>=1.7 in /usr/local/lib/python3.7/dist-packages (from fiona>=1.8->geopandas) (1.15.0)\n",
            "Requirement already satisfied: click-plugins>=1.0 in /usr/local/lib/python3.7/dist-packages (from fiona>=1.8->geopandas) (1.1.1)\n",
            "Requirement already satisfied: munch in /usr/local/lib/python3.7/dist-packages (from fiona>=1.8->geopandas) (2.5.0)\n",
            "Requirement already satisfied: pyshp in /usr/local/lib/python3.7/dist-packages (1.2.10)\n",
            "Requirement already satisfied: shapely in /usr/local/lib/python3.7/dist-packages (1.6.3)\n",
            "Requirement already satisfied: wget in /usr/local/lib/python3.7/dist-packages (3.2)\n"
          ],
          "name": "stdout"
        }
      ]
    },
    {
      "cell_type": "markdown",
      "metadata": {
        "id": "0bsGAqxlRO50"
      },
      "source": [
        "## Import packages"
      ]
    },
    {
      "cell_type": "code",
      "metadata": {
        "id": "RXzNNbV9Sphh"
      },
      "source": [
        "import pandas as pd\n",
        "import os\n",
        "import sys\n",
        "import numpy as np\n",
        "import ast\n",
        "\n",
        "from urllib.request import urlopen\n",
        "from zipfile import ZipFile\n",
        "\n",
        "\n",
        "from datetime import datetime, timedelta\n",
        "import matplotlib.pyplot as plt\n",
        "from matplotlib import ticker\n",
        "from matplotlib.dates import MonthLocator, DateFormatter\n",
        "import wget\n",
        "import geopandas as gpd\n"
      ],
      "execution_count": 2,
      "outputs": []
    },
    {
      "cell_type": "markdown",
      "metadata": {
        "id": "FAXo_FQ2RSjr"
      },
      "source": [
        "## Download files"
      ]
    },
    {
      "cell_type": "code",
      "metadata": {
        "id": "AC_LmOXIXWzl"
      },
      "source": [
        "shapefile_url = r'https://github.com/gladcolor/county_network/raw/master/us_counties.zip'\n",
        "wget.download(shapefile_url)\n",
        "downloaded_file = os.path.basename(shapefile_url)"
      ],
      "execution_count": 3,
      "outputs": []
    },
    {
      "cell_type": "markdown",
      "metadata": {
        "id": "DdXF7UwtRz5D"
      },
      "source": [
        "## Generate neighors and centroids"
      ]
    },
    {
      "cell_type": "code",
      "metadata": {
        "colab": {
          "base_uri": "https://localhost:8080/",
          "height": 374
        },
        "id": "up_F-AwM0ECl",
        "outputId": "8d4529b3-c39c-42da-b50a-1252ffb3bf5b"
      },
      "source": [
        "from matplotlib import pyplot as plt\n",
        "\n",
        "US_gdf = gpd.read_file(f'zip://{downloaded_file}')\n",
        "SC_gdf = US_gdf[US_gdf[\"STATE\"] == '45']\n",
        "\n",
        "\n",
        "\n",
        "def find_neighbors(row, gdf):\n",
        "    neighbor_idx = gdf[gdf.geometry.touches(row['geometry'])].index   \n",
        "    return neighbor_idx\n",
        "\n",
        "SC_gdf['centroid'] = SC_gdf['geometry'].centroid\n",
        "SC_gdf['neighbor_idx'] = SC_gdf.apply(find_neighbors, axis=1, args=(SC_gdf,))\n",
        "\n",
        "# test results\n",
        "test_id =21\n",
        "f, ax = plt.subplots()\n",
        "SC_gdf.plot(ax=ax)\n",
        "SC_gdf.iloc[test_id:test_id + 1].plot(ax=ax, color='red')\n",
        "neighbor_idx = SC_gdf.iloc[test_id]['neighbor_idx']\n",
        "SC_gdf.loc[neighbor_idx].plot(ax=ax, color='green')\n",
        "SC_gdf['centroid'].plot(ax=ax, color='yellow')"
      ],
      "execution_count": 77,
      "outputs": [
        {
          "output_type": "stream",
          "text": [
            "/usr/local/lib/python3.7/dist-packages/ipykernel_launcher.py:12: UserWarning:\n",
            "\n",
            "Geometry is in a geographic CRS. Results from 'centroid' are likely incorrect. Use 'GeoSeries.to_crs()' to re-project geometries to a projected CRS before this operation.\n",
            "\n",
            "\n"
          ],
          "name": "stderr"
        },
        {
          "output_type": "execute_result",
          "data": {
            "text/plain": [
              "<matplotlib.axes._subplots.AxesSubplot at 0x7fca2150abd0>"
            ]
          },
          "metadata": {
            "tags": []
          },
          "execution_count": 77
        },
        {
          "output_type": "display_data",
          "data": {
            "image/png": "[encoded data removed]",
            "text/plain": [
              "<Figure size 432x288 with 1 Axes>"
            ]
          },
          "metadata": {
            "tags": [],
            "needs_background": "light"
          }
        }
      ]
    },
    {
      "cell_type": "code",
      "metadata": {
        "colab": {
          "base_uri": "https://localhost:8080/",
          "height": 552
        },
        "id": "lchIq2WRSCAS",
        "outputId": "3ef1d5ee-2ff8-4b16-9d83-d2c0aeeb1e6a"
      },
      "source": [
        "print(\"Neighbors of the first county:\")\n",
        "SC_gdf.loc[SC_gdf.iloc[0]['neighbor_idx']]"
      ],
      "execution_count": 88,
      "outputs": [
        {
          "output_type": "stream",
          "text": [
            "Neighbors of the first county:\n"
          ],
          "name": "stdout"
        },
        {
          "output_type": "execute_result",
          "data": {
            "text/html": [
              "<div>\n",
              "<style scoped>\n",
              "    .dataframe tbody tr th:only-of-type {\n",
              "        vertical-align: middle;\n",
              "    }\n",
              "\n",
              "    .dataframe tbody tr th {\n",
              "        vertical-align: top;\n",
              "    }\n",
              "\n",
              "    .dataframe thead th {\n",
              "        text-align: right;\n",
              "    }\n",
              "</style>\n",
              "<table border=\"1\" class=\"dataframe\">\n",
              "  <thead>\n",
              "    <tr style=\"text-align: right;\">\n",
              "      <th></th>\n",
              "      <th>GEO_ID</th>\n",
              "      <th>STATE</th>\n",
              "      <th>COUNTY</th>\n",
              "      <th>NAME</th>\n",
              "      <th>LSAD</th>\n",
              "      <th>CENSUSAREA</th>\n",
              "      <th>FIPS</th>\n",
              "      <th>fips_1</th>\n",
              "      <th>average_20</th>\n",
              "      <th>complete_2</th>\n",
              "      <th>average_48</th>\n",
              "      <th>complete_4</th>\n",
              "      <th>average_50</th>\n",
              "      <th>complete_5</th>\n",
              "      <th>average_75</th>\n",
              "      <th>complete_7</th>\n",
              "      <th>geometry</th>\n",
              "      <th>centroid</th>\n",
              "      <th>neighbor_idx</th>\n",
              "    </tr>\n",
              "  </thead>\n",
              "  <tbody>\n",
              "    <tr>\n",
              "      <th>458</th>\n",
              "      <td>0500000US45009</td>\n",
              "      <td>45</td>\n",
              "      <td>009</td>\n",
              "      <td>Bamberg</td>\n",
              "      <td>County</td>\n",
              "      <td>393.370</td>\n",
              "      <td>US45009</td>\n",
              "      <td>US45009</td>\n",
              "      <td>2</td>\n",
              "      <td>3</td>\n",
              "      <td>9</td>\n",
              "      <td>4</td>\n",
              "      <td>9</td>\n",
              "      <td>0</td>\n",
              "      <td>23</td>\n",
              "      <td>5</td>\n",
              "      <td>POLYGON Z ((-81.22011 33.43949 0.00000, -80.94...</td>\n",
              "      <td>POINT (-81.06173 33.22034)</td>\n",
              "      <td>Int64Index([457, 478, 480, 2563, 2642], dtype=...</td>\n",
              "    </tr>\n",
              "    <tr>\n",
              "      <th>478</th>\n",
              "      <td>0500000US45049</td>\n",
              "      <td>45</td>\n",
              "      <td>049</td>\n",
              "      <td>Hampton</td>\n",
              "      <td>County</td>\n",
              "      <td>559.896</td>\n",
              "      <td>US45049</td>\n",
              "      <td>US45049</td>\n",
              "      <td>2</td>\n",
              "      <td>3</td>\n",
              "      <td>9</td>\n",
              "      <td>4</td>\n",
              "      <td>9</td>\n",
              "      <td>0</td>\n",
              "      <td>23</td>\n",
              "      <td>5</td>\n",
              "      <td>POLYGON Z ((-80.82631 32.70432 0.00000, -80.83...</td>\n",
              "      <td>POINT (-81.14126 32.77500)</td>\n",
              "      <td>Int64Index([457, 458, 479, 2563, 2643], dtype=...</td>\n",
              "    </tr>\n",
              "    <tr>\n",
              "      <th>2563</th>\n",
              "      <td>0500000US45029</td>\n",
              "      <td>45</td>\n",
              "      <td>029</td>\n",
              "      <td>Colleton</td>\n",
              "      <td>County</td>\n",
              "      <td>1056.491</td>\n",
              "      <td>US45029</td>\n",
              "      <td>US45029</td>\n",
              "      <td>4</td>\n",
              "      <td>7</td>\n",
              "      <td>10</td>\n",
              "      <td>26</td>\n",
              "      <td>10</td>\n",
              "      <td>26</td>\n",
              "      <td>50</td>\n",
              "      <td>12</td>\n",
              "      <td>POLYGON Z ((-80.47691 32.48539 0.00000, -80.55...</td>\n",
              "      <td>POINT (-80.66791 32.86929)</td>\n",
              "      <td>Int64Index([457, 458, 478, 480, 1013, 2643, 27...</td>\n",
              "    </tr>\n",
              "    <tr>\n",
              "      <th>2642</th>\n",
              "      <td>0500000US45011</td>\n",
              "      <td>45</td>\n",
              "      <td>011</td>\n",
              "      <td>Barnwell</td>\n",
              "      <td>County</td>\n",
              "      <td>548.393</td>\n",
              "      <td>US45011</td>\n",
              "      <td>US45011</td>\n",
              "      <td>2</td>\n",
              "      <td>3</td>\n",
              "      <td>9</td>\n",
              "      <td>4</td>\n",
              "      <td>9</td>\n",
              "      <td>0</td>\n",
              "      <td>23</td>\n",
              "      <td>5</td>\n",
              "      <td>POLYGON Z ((-81.77225 33.18012 0.00000, -81.75...</td>\n",
              "      <td>POINT (-81.43665 33.26573)</td>\n",
              "      <td>Int64Index([457, 458, 480, 1527], dtype='int64')</td>\n",
              "    </tr>\n",
              "  </tbody>\n",
              "</table>\n",
              "</div>"
            ],
            "text/plain": [
              "              GEO_ID  ...                                       neighbor_idx\n",
              "458   0500000US45009  ...  Int64Index([457, 478, 480, 2563, 2642], dtype=...\n",
              "478   0500000US45049  ...  Int64Index([457, 458, 479, 2563, 2643], dtype=...\n",
              "2563  0500000US45029  ...  Int64Index([457, 458, 478, 480, 1013, 2643, 27...\n",
              "2642  0500000US45011  ...   Int64Index([457, 458, 480, 1527], dtype='int64')\n",
              "\n",
              "[4 rows x 19 columns]"
            ]
          },
          "metadata": {
            "tags": []
          },
          "execution_count": 88
        }
      ]
    },
    {
      "cell_type": "markdown",
      "metadata": {
        "id": "uDjaq_MhAovz"
      },
      "source": [
        "## Generate edges"
      ]
    },
    {
      "cell_type": "code",
      "metadata": {
        "colab": {
          "base_uri": "https://localhost:8080/",
          "height": 407
        },
        "id": "ql33qrHyAt9l",
        "outputId": "0d77dcfa-8d4f-4471-9b16-71729dc97906"
      },
      "source": [
        "edges = []\n",
        "def get_edges(row, gdf, edges):\n",
        "    neighbors = gdf.loc[row['neighbor_idx']]\n",
        "    from_x = row['centroid'].x\n",
        "    from_y = row['centroid'].y\n",
        "   \n",
        "    for idx, n in neighbors.iterrows():\n",
        "        to_x = n['centroid'].x\n",
        "        to_y = n['centroid'].y\n",
        "        # print(from_x, from_y, to_x, to_y)\n",
        "        edges.append((from_x, from_y, to_x, to_y))\n",
        "\n",
        "SC_gdf.apply(get_edges, axis=1, args=(SC_gdf, edges))\n",
        "\n",
        "edges = np.array(edges)\n",
        "edge_df = pd.DataFrame(edges, columns = ['start_lon','start_lat','end_lon', 'end_lat'])\n",
        "edge_df"
      ],
      "execution_count": 91,
      "outputs": [
        {
          "output_type": "execute_result",
          "data": {
            "text/html": [
              "<div>\n",
              "<style scoped>\n",
              "    .dataframe tbody tr th:only-of-type {\n",
              "        vertical-align: middle;\n",
              "    }\n",
              "\n",
              "    .dataframe tbody tr th {\n",
              "        vertical-align: top;\n",
              "    }\n",
              "\n",
              "    .dataframe thead th {\n",
              "        text-align: right;\n",
              "    }\n",
              "</style>\n",
              "<table border=\"1\" class=\"dataframe\">\n",
              "  <thead>\n",
              "    <tr style=\"text-align: right;\">\n",
              "      <th></th>\n",
              "      <th>start_lon</th>\n",
              "      <th>start_lat</th>\n",
              "      <th>end_lon</th>\n",
              "      <th>end_lat</th>\n",
              "    </tr>\n",
              "  </thead>\n",
              "  <tbody>\n",
              "    <tr>\n",
              "      <th>0</th>\n",
              "      <td>-81.354093</td>\n",
              "      <td>32.990295</td>\n",
              "      <td>-81.061734</td>\n",
              "      <td>33.220337</td>\n",
              "    </tr>\n",
              "    <tr>\n",
              "      <th>1</th>\n",
              "      <td>-81.354093</td>\n",
              "      <td>32.990295</td>\n",
              "      <td>-81.141258</td>\n",
              "      <td>32.774995</td>\n",
              "    </tr>\n",
              "    <tr>\n",
              "      <th>2</th>\n",
              "      <td>-81.354093</td>\n",
              "      <td>32.990295</td>\n",
              "      <td>-80.667914</td>\n",
              "      <td>32.869286</td>\n",
              "    </tr>\n",
              "    <tr>\n",
              "      <th>3</th>\n",
              "      <td>-81.354093</td>\n",
              "      <td>32.990295</td>\n",
              "      <td>-81.436647</td>\n",
              "      <td>33.265733</td>\n",
              "    </tr>\n",
              "    <tr>\n",
              "      <th>4</th>\n",
              "      <td>-81.061734</td>\n",
              "      <td>33.220337</td>\n",
              "      <td>-81.354093</td>\n",
              "      <td>32.990295</td>\n",
              "    </tr>\n",
              "    <tr>\n",
              "      <th>...</th>\n",
              "      <td>...</td>\n",
              "      <td>...</td>\n",
              "      <td>...</td>\n",
              "      <td>...</td>\n",
              "    </tr>\n",
              "    <tr>\n",
              "      <th>221</th>\n",
              "      <td>-79.952439</td>\n",
              "      <td>33.198262</td>\n",
              "      <td>-80.801101</td>\n",
              "      <td>33.439079</td>\n",
              "    </tr>\n",
              "    <tr>\n",
              "      <th>222</th>\n",
              "      <td>-79.952439</td>\n",
              "      <td>33.198262</td>\n",
              "      <td>-80.402646</td>\n",
              "      <td>33.077628</td>\n",
              "    </tr>\n",
              "    <tr>\n",
              "      <th>223</th>\n",
              "      <td>-79.952439</td>\n",
              "      <td>33.198262</td>\n",
              "      <td>-79.729776</td>\n",
              "      <td>33.614825</td>\n",
              "    </tr>\n",
              "    <tr>\n",
              "      <th>224</th>\n",
              "      <td>-79.952439</td>\n",
              "      <td>33.198262</td>\n",
              "      <td>-79.332293</td>\n",
              "      <td>33.431003</td>\n",
              "    </tr>\n",
              "    <tr>\n",
              "      <th>225</th>\n",
              "      <td>-79.952439</td>\n",
              "      <td>33.198262</td>\n",
              "      <td>-79.951613</td>\n",
              "      <td>32.832309</td>\n",
              "    </tr>\n",
              "  </tbody>\n",
              "</table>\n",
              "<p>226 rows × 4 columns</p>\n",
              "</div>"
            ],
            "text/plain": [
              "     start_lon  start_lat    end_lon    end_lat\n",
              "0   -81.354093  32.990295 -81.061734  33.220337\n",
              "1   -81.354093  32.990295 -81.141258  32.774995\n",
              "2   -81.354093  32.990295 -80.667914  32.869286\n",
              "3   -81.354093  32.990295 -81.436647  33.265733\n",
              "4   -81.061734  33.220337 -81.354093  32.990295\n",
              "..         ...        ...        ...        ...\n",
              "221 -79.952439  33.198262 -80.801101  33.439079\n",
              "222 -79.952439  33.198262 -80.402646  33.077628\n",
              "223 -79.952439  33.198262 -79.729776  33.614825\n",
              "224 -79.952439  33.198262 -79.332293  33.431003\n",
              "225 -79.952439  33.198262 -79.951613  32.832309\n",
              "\n",
              "[226 rows x 4 columns]"
            ]
          },
          "metadata": {
            "tags": []
          },
          "execution_count": 91
        }
      ]
    },
    {
      "cell_type": "markdown",
      "metadata": {
        "id": "VzsBvMhzUWsO"
      },
      "source": [
        "# Draw figure"
      ]
    },
    {
      "cell_type": "markdown",
      "metadata": {
        "id": "eybIXIqBT6wm"
      },
      "source": [
        "## Draw all edges"
      ]
    },
    {
      "cell_type": "code",
      "metadata": {
        "colab": {
          "base_uri": "https://localhost:8080/",
          "height": 737
        },
        "id": "6o0XO90oB515",
        "outputId": "6b75b244-1867-48a5-f75d-b7964e958e8f"
      },
      "source": [
        "import plotly.graph_objects as go\n",
        "import plotly.express as px\n",
        "import pandas as pd\n",
        "import plotly\n",
        "import plotly.figure_factory as ff\n",
        "import numpy as np\n",
        "\n",
        "\n",
        "\n",
        "fig = go.Figure(go.Scattergeo())\n",
        "\n",
        "\n",
        "\n",
        "\n",
        "\n",
        "\n",
        "# draw edges\n",
        "lons = []\n",
        "lats = []\n",
        "import numpy as np\n",
        "lons = np.empty(3 * len(edge_df))\n",
        "lons[::3] = edge_df['start_lon']\n",
        "lons[1::3] = edge_df['end_lon']\n",
        "lons[2::3] = None\n",
        "lats = np.empty(3 * len(edge_df))\n",
        "lats[::3] = edge_df['start_lat']\n",
        "lats[1::3] = edge_df['end_lat']\n",
        "lats[2::3] = None\n",
        "\n",
        "fig.add_trace(\n",
        "    go.Scattergeo(\n",
        "        locationmode = 'USA-states',\n",
        "        lon = lons,\n",
        "        lat = lats,\n",
        "        mode = 'lines',\n",
        "        line = dict(width = 2,color = 'red'),\n",
        "        opacity = 0.5\n",
        "    )\n",
        ")\n",
        "\n",
        "# draw county boundaries\n",
        "for idx, row in SC_gdf.iterrows():\n",
        "    polygon_lons = row['geometry'].exterior.coords.xy[0]\n",
        "    polygon_lats = row['geometry'].exterior.coords.xy[1]\n",
        "    fig.add_trace(\n",
        "        go.Scattergeo(\n",
        "            # locationmode = 'USA-states',\n",
        "            lon = np.array(polygon_lons),\n",
        "            lat = np.array(polygon_lats),\n",
        "            mode = 'lines',\n",
        "            line = dict(width = 1,color = 'black'),\n",
        "            opacity = 0.5\n",
        "        )\n",
        "    )\n",
        "\n",
        "# draw centroids\n",
        "fig.add_trace(go.Scattergeo(\n",
        "    \n",
        "    lon = SC_gdf['centroid'].x,\n",
        "    lat = SC_gdf['centroid'].y,\n",
        "    hoverinfo = 'text',\n",
        "    text = SC_gdf['NAME'],\n",
        "    mode = 'markers',\n",
        "    marker = dict(\n",
        "        size = 6,\n",
        "        color = 'rgba(255, 255, 255, 100)',\n",
        "        line = dict(\n",
        "            width = 1,\n",
        "            color = 'rgba(0, 0, 0, 50)'\n",
        "        )\n",
        "    )))\n",
        "\n",
        "# show figure\n",
        "fig.update_layout(\n",
        "    title_text = \"South Carolina Counties' Neighbor Network\",\n",
        "    geo = go.layout.Geo(        \n",
        "        scope=\"north america\",\n",
        "        projection_type = 'azimuthal equal area',\n",
        "        showland = False,\n",
        "        landcolor = 'rgba(243, 243, 243, 0)',\n",
        "        countrycolor = 'rgba(204, 204, 204, 0)',\n",
        "        countrywidth=0,\n",
        "        coastlinewidth=0,\n",
        "\n",
        "    ),\n",
        "    height=1000,\n",
        "    width=1600,\n",
        ")\n",
        "\n",
        "fig.update_geos(center_lon=-81,\n",
        "                center_lat=33,                \n",
        "                )\n",
        "\n",
        "fig.show()"
      ],
      "execution_count": 102,
      "outputs": [
        {
          "output_type": "display_data",
          "data": {
            "text/html": [
              "<html>\n",
              "<head><meta charset=\"utf-8\" /></head>\n",
              "<body>\n",
              "    <div>\n",
              "            <script src=\"https://cdnjs.cloudflare.com/ajax/libs/mathjax/2.7.5/MathJax.js?config=TeX-AMS-MML_SVG\"></script><script type=\"text/javascript\">if (window.MathJax) {MathJax.Hub.Config({SVG: {font: \"STIX-Web\"}});}</script>\n",
              "                <script type=\"text/javascript\">window.PlotlyConfig = {MathJaxConfig: 'local'};</script>\n",
              "        <script src=\"https://cdn.plot.ly/plotly-latest.min.js\"></script>    \n",
              "            <div id=\"035513e1-8fce-48cb-a3db-1996ff268832\" class=\"plotly-graph-div\" style=\"height:700px; width:1600px;\"></div>\n",
              "            <script type=\"text/javascript\">\n",
              "                \n",
              "                    window.PLOTLYENV=window.PLOTLYENV || {};\n",
              "                    \n",
              "                if (document.getElementById(\"035513e1-8fce-48cb-a3db-1996ff268832\")) {\n",
              "                    Plotly.newPlot(\n",
              "                        '035513e1-8fce-48cb-a3db-1996ff268832',\n",
              "                        [{\"type\": \"scattergeo\"}, {\"lat\": [32.99029455029952, 33.22033695531089, null, 32.99029455029952, 32.77499517007042, null, 32.99029455029952, 32.86928582527485, null, 32.99029455029952, 33.26573323785141, null, 33.22033695531089, 32.99029455029952, null, 33.22033695531089, 32.77499517007042, null, 33.22033695531089, 33.43907882067382, null, 33.22033695531089, 32.86928582527485, null, 33.22033695531089, 33.26573323785141, null, 33.666156316297425, 33.43907882067382, null, 33.666156316297425, 33.9186728090913, null, 33.666156316297425, 33.614824711991176, null, 33.666156316297425, 33.67321400593284, null, 33.666156316297425, 34.02010123083099, null, 33.666156316297425, 33.19826219496264, null, 34.391434026119256, 34.33980772980491, null, 34.391434026119256, 34.28724382552811, null, 34.391434026119256, 34.01833693308043, null, 34.391434026119256, 34.691223112732466, null, 34.391434026119256, 34.68732714367059, null, 34.391434026119256, 34.687041407698466, null, 32.77499517007042, 32.99029455029952, null, 32.77499517007042, 33.22033695531089, null, 32.77499517007042, 32.42995697026728, null, 32.77499517007042, 32.86928582527485, null, 32.77499517007042, 32.38989842772185, null, 32.42995697026728, 32.77499517007042, null, 32.42995697026728, 32.38989842772185, null, 33.43907882067382, 33.22033695531089, null, 33.43907882067382, 33.666156316297425, null, 33.43907882067382, 33.07762760050637, null, 33.43907882067382, 33.540554401242304, null, 33.43907882067382, 33.67321400593284, null, 33.43907882067382, 32.86928582527485, null, 33.43907882067382, 33.26573323785141, null, 33.43907882067382, 33.89810184286564, null, 33.43907882067382, 33.19826219496264, null, 34.00757714985861, 33.772136561525976, null, 34.00757714985861, 34.28724382552811, null, 34.00757714985861, 33.540554401242304, null, 34.00757714985861, 34.149788109164874, null, 34.00757714985861, 33.89810184286564, null, 34.33413436248769, 34.33980772980491, null, 34.33413436248769, 34.17089010473481, null, 34.33413436248769, 34.64019390823905, null, 34.33413436248769, 34.60403045654097, null, 34.33413436248769, 34.02010123083099, null, 33.07762760050637, 33.43907882067382, null, 33.07762760050637, 32.86928582527485, null, 33.07762760050637, 32.83230911973316, null, 33.07762760050637, 33.19826219496264, null, 33.772136561525976, 34.00757714985861, null, 33.772136561525976, 33.901066415197576, null, 33.772136561525976, 33.540554401242304, null, 33.772136561525976, 34.149788109164874, null, 34.33980772980491, 34.391434026119256, null, 34.33980772980491, 34.33413436248769, null, 34.33980772980491, 34.17089010473481, null, 34.33980772980491, 34.01833693308043, null, 34.33980772980491, 33.9186728090913, null, 34.33980772980491, 34.64019390823905, null, 34.33980772980491, 34.687041407698466, null, 34.17089010473481, 34.33413436248769, null, 34.17089010473481, 34.33980772980491, null, 34.17089010473481, 33.9186728090913, null, 34.17089010473481, 34.02010123083099, null, 33.901066415197576, 33.772136561525976, null, 33.901066415197576, 34.22485618563562, null, 33.901066415197576, 34.149788109164874, null, 34.28724382552811, 34.391434026119256, null, 34.28724382552811, 34.00757714985861, null, 34.28724382552811, 34.01833693308043, null, 34.28724382552811, 34.149788109164874, null, 34.28724382552811, 34.48125837853395, null, 34.28724382552811, 34.68732714367059, null, 34.28724382552811, 33.89810184286564, null, 34.75536746151503, 34.51765728009019, null, 34.75536746151503, 34.887143912247595, null, 34.01833693308043, 34.391434026119256, null, 34.01833693308043, 34.33980772980491, null, 34.01833693308043, 34.28724382552811, null, 34.01833693308043, 33.9186728090913, null, 34.01833693308043, 33.67321400593284, null, 34.01833693308043, 33.89810184286564, null, 34.932709963783545, 35.04974682306474, null, 34.932709963783545, 34.89104867731327, null, 34.932709963783545, 34.48125837853395, null, 34.932709963783545, 34.68732714367059, null, 33.9186728090913, 33.666156316297425, null, 33.9186728090913, 34.33980772980491, null, 33.9186728090913, 34.17089010473481, null, 33.9186728090913, 34.01833693308043, null, 33.9186728090913, 33.67321400593284, null, 33.9186728090913, 34.02010123083099, null, 33.614824711991176, 33.666156316297425, null, 33.614824711991176, 34.02010123083099, null, 33.614824711991176, 33.43100348340247, null, 33.614824711991176, 34.08007844319205, null, 33.614824711991176, 33.19826219496264, null, 34.22485618563562, 33.901066415197576, null, 34.22485618563562, 34.51765728009019, null, 34.22485618563562, 34.89104867731327, null, 34.22485618563562, 34.149788109164874, null, 34.22485618563562, 34.48125837853395, null, 33.540554401242304, 33.43907882067382, null, 33.540554401242304, 34.00757714985861, null, 33.540554401242304, 33.772136561525976, null, 33.540554401242304, 33.26573323785141, null, 33.540554401242304, 33.89810184286564, null, 34.51765728009019, 34.75536746151503, null, 34.51765728009019, 34.22485618563562, null, 34.51765728009019, 34.89104867731327, null, 34.51765728009019, 34.48125837853395, null, 34.51765728009019, 34.887143912247595, null, 33.67321400593284, 33.666156316297425, null, 33.67321400593284, 33.43907882067382, null, 33.67321400593284, 34.01833693308043, null, 33.67321400593284, 33.9186728090913, null, 33.67321400593284, 33.89810184286564, null, 34.691223112732466, 34.391434026119256, null, 34.691223112732466, 34.68732714367059, null, 34.691223112732466, 34.687041407698466, null, 34.691223112732466, 34.97439662892535, null, 34.64019390823905, 34.33413436248769, null, 34.64019390823905, 34.33980772980491, null, 34.64019390823905, 34.60403045654097, null, 34.64019390823905, 34.687041407698466, null, 35.04974682306474, 34.932709963783545, null, 35.04974682306474, 34.68732714367059, null, 35.04974682306474, 34.97439662892535, null, 34.39102231920796, 33.91939495304242, null, 34.39102231920796, 34.60403045654097, null, 34.39102231920796, 34.02010123083099, null, 34.39102231920796, 34.08007844319205, null, 34.89104867731327, 34.932709963783545, null, 34.89104867731327, 34.22485618563562, null, 34.89104867731327, 34.51765728009019, null, 34.89104867731327, 34.48125837853395, null, 34.89104867731327, 34.887143912247595, null, 34.149788109164874, 34.00757714985861, null, 34.149788109164874, 33.772136561525976, null, 34.149788109164874, 33.901066415197576, null, 34.149788109164874, 34.28724382552811, null, 34.149788109164874, 34.22485618563562, null, 34.149788109164874, 34.48125837853395, null, 33.91939495304242, 34.39102231920796, null, 33.91939495304242, 33.43100348340247, null, 33.91939495304242, 34.08007844319205, null, 34.48125837853395, 34.28724382552811, null, 34.48125837853395, 34.932709963783545, null, 34.48125837853395, 34.22485618563562, null, 34.48125837853395, 34.51765728009019, null, 34.48125837853395, 34.89104867731327, null, 34.48125837853395, 34.149788109164874, null, 34.48125837853395, 34.68732714367059, null, 34.60403045654097, 34.33413436248769, null, 34.60403045654097, 34.64019390823905, null, 34.60403045654097, 34.39102231920796, null, 34.60403045654097, 34.02010123083099, null, 34.68732714367059, 34.391434026119256, null, 34.68732714367059, 34.28724382552811, null, 34.68732714367059, 34.932709963783545, null, 34.68732714367059, 34.691223112732466, null, 34.68732714367059, 35.04974682306474, null, 34.68732714367059, 34.48125837853395, null, 34.68732714367059, 34.97439662892535, null, 32.86928582527485, 32.99029455029952, null, 32.86928582527485, 33.22033695531089, null, 32.86928582527485, 32.77499517007042, null, 32.86928582527485, 33.43907882067382, null, 32.86928582527485, 33.07762760050637, null, 32.86928582527485, 32.38989842772185, null, 32.86928582527485, 32.83230911973316, null, 34.02010123083099, 33.666156316297425, null, 34.02010123083099, 34.33413436248769, null, 34.02010123083099, 34.17089010473481, null, 34.02010123083099, 33.9186728090913, null, 34.02010123083099, 33.614824711991176, null, 34.02010123083099, 34.39102231920796, null, 34.02010123083099, 34.60403045654097, null, 34.02010123083099, 34.08007844319205, null, 33.43100348340247, 33.614824711991176, null, 33.43100348340247, 33.91939495304242, null, 33.43100348340247, 32.83230911973316, null, 33.43100348340247, 34.08007844319205, null, 33.43100348340247, 33.19826219496264, null, 33.26573323785141, 32.99029455029952, null, 33.26573323785141, 33.22033695531089, null, 33.26573323785141, 33.43907882067382, null, 33.26573323785141, 33.540554401242304, null, 32.38989842772185, 32.77499517007042, null, 32.38989842772185, 32.42995697026728, null, 32.38989842772185, 32.86928582527485, null, 32.83230911973316, 33.07762760050637, null, 32.83230911973316, 32.86928582527485, null, 32.83230911973316, 33.43100348340247, null, 32.83230911973316, 33.19826219496264, null, 34.687041407698466, 34.391434026119256, null, 34.687041407698466, 34.33980772980491, null, 34.687041407698466, 34.691223112732466, null, 34.687041407698466, 34.64019390823905, null, 34.687041407698466, 34.97439662892535, null, 34.97439662892535, 34.691223112732466, null, 34.97439662892535, 35.04974682306474, null, 34.97439662892535, 34.68732714367059, null, 34.97439662892535, 34.687041407698466, null, 33.89810184286564, 33.43907882067382, null, 33.89810184286564, 34.00757714985861, null, 33.89810184286564, 34.28724382552811, null, 33.89810184286564, 34.01833693308043, null, 33.89810184286564, 33.540554401242304, null, 33.89810184286564, 33.67321400593284, null, 34.08007844319205, 33.614824711991176, null, 34.08007844319205, 34.39102231920796, null, 34.08007844319205, 33.91939495304242, null, 34.08007844319205, 34.02010123083099, null, 34.08007844319205, 33.43100348340247, null, 34.887143912247595, 34.75536746151503, null, 34.887143912247595, 34.51765728009019, null, 34.887143912247595, 34.89104867731327, null, 33.19826219496264, 33.666156316297425, null, 33.19826219496264, 33.43907882067382, null, 33.19826219496264, 33.07762760050637, null, 33.19826219496264, 33.614824711991176, null, 33.19826219496264, 33.43100348340247, null, 33.19826219496264, 32.83230911973316, null], \"line\": {\"color\": \"red\", \"width\": 2}, \"locationmode\": \"USA-states\", \"lon\": [-81.35409318076069, -81.06173428301263, null, -81.35409318076069, -81.14125832000747, null, -81.35409318076069, -80.66791449189651, null, -81.35409318076069, -81.43664690856407, null, -81.06173428301263, -81.35409318076069, null, -81.06173428301263, -81.14125832000747, null, -81.06173428301263, -80.80110088456121, null, -81.06173428301263, -80.66791449189651, null, -81.06173428301263, -81.43664690856407, null, -80.21732867194231, -80.80110088456121, null, -80.21732867194231, -80.38154084718205, null, -80.21732867194231, -79.72977640881734, null, -80.21732867194231, -80.77926724954543, null, -80.21732867194231, -79.70327261780876, null, -80.21732867194231, -79.95243934238543, null, -81.11635659322407, -80.59071958892434, null, -81.11635659322407, -81.59608974797503, null, -81.11635659322407, -80.90355574542349, null, -81.11635659322407, -81.16065821958438, null, -81.11635659322407, -81.61941198857592, null, -81.11635659322407, -80.70532152043123, null, -81.14125832000747, -81.35409318076069, null, -81.14125832000747, -81.06173428301263, null, -81.14125832000747, -81.03015755977401, null, -81.14125832000747, -80.66791449189651, null, -81.14125832000747, -80.72696829521571, null, -81.03015755977401, -81.14125832000747, null, -81.03015755977401, -80.72696829521571, null, -80.80110088456121, -81.06173428301263, null, -80.80110088456121, -80.21732867194231, null, -80.80110088456121, -80.40264621104588, null, -80.80110088456121, -81.63829900450047, null, -80.80110088456121, -80.77926724954543, null, -80.80110088456121, -80.66791449189651, null, -80.80110088456121, -81.43664690856407, null, -80.80110088456121, -81.27523213870799, null, -80.80110088456121, -79.95243934238543, null, -81.72554770522893, -81.9637609055562, null, -81.72554770522893, -81.59608974797503, null, -81.72554770522893, -81.63829900450047, null, -81.72554770522893, -82.12589582437793, null, -81.72554770522893, -81.27523213870799, null, -79.94766203100053, -80.59071958892434, null, -79.94766203100053, -80.25727652526221, null, -79.94766203100053, -80.15513657221686, null, -79.94766203100053, -79.67503780987839, null, -79.94766203100053, -79.70327261780876, null, -80.40264621104588, -80.80110088456121, null, -80.40264621104588, -80.66791449189651, null, -80.40264621104588, -79.95161252403413, null, -80.40264621104588, -79.95243934238543, null, -81.9637609055562, -81.72554770522893, null, -81.9637609055562, -82.30970462286486, null, -81.9637609055562, -81.63829900450047, null, -81.9637609055562, -82.12589582437793, null, -80.59071958892434, -81.11635659322407, null, -80.59071958892434, -79.94766203100053, null, -80.59071958892434, -80.25727652526221, null, -80.59071958892434, -80.90355574542349, null, -80.59071958892434, -80.38154084718205, null, -80.59071958892434, -80.15513657221686, null, -80.59071958892434, -80.70532152043123, null, -80.25727652526221, -79.94766203100053, null, -80.25727652526221, -80.59071958892434, null, -80.25727652526221, -80.38154084718205, null, -80.25727652526221, -79.70327261780876, null, -82.30970462286486, -81.9637609055562, null, -82.30970462286486, -82.46049779491187, null, -82.30970462286486, -82.12589582437793, null, -81.59608974797503, -81.11635659322407, null, -81.59608974797503, -81.72554770522893, null, -81.59608974797503, -80.90355574542349, null, -81.59608974797503, -82.12589582437793, null, -81.59608974797503, -82.00548575216864, null, -81.59608974797503, -81.61941198857592, null, -81.59608974797503, -81.27523213870799, null, -83.06965243844782, -82.63864434573149, null, -83.06965243844782, -82.72608330449034, null, -80.90355574542349, -81.11635659322407, null, -80.90355574542349, -80.59071958892434, null, -80.90355574542349, -81.59608974797503, null, -80.90355574542349, -80.38154084718205, null, -80.90355574542349, -80.77926724954543, null, -80.90355574542349, -81.27523213870799, null, -81.99304774386157, -81.61753483635475, null, -81.99304774386157, -82.36787898993309, null, -81.99304774386157, -82.00548575216864, null, -81.99304774386157, -81.61941198857592, null, -80.38154084718205, -80.21732867194231, null, -80.38154084718205, -80.59071958892434, null, -80.38154084718205, -80.25727652526221, null, -80.38154084718205, -80.90355574542349, null, -80.38154084718205, -80.77926724954543, null, -80.38154084718205, -79.70327261780876, null, -79.72977640881734, -80.21732867194231, null, -79.72977640881734, -79.70327261780876, null, -79.72977640881734, -79.33229255547403, null, -79.72977640881734, -79.36075476861357, null, -79.72977640881734, -79.95243934238543, null, -82.46049779491187, -82.30970462286486, null, -82.46049779491187, -82.63864434573149, null, -82.46049779491187, -82.36787898993309, null, -82.46049779491187, -82.12589582437793, null, -82.46049779491187, -82.00548575216864, null, -81.63829900450047, -80.80110088456121, null, -81.63829900450047, -81.72554770522893, null, -81.63829900450047, -81.9637609055562, null, -81.63829900450047, -81.43664690856407, null, -81.63829900450047, -81.27523213870799, null, -82.63864434573149, -83.06965243844782, null, -82.63864434573149, -82.46049779491187, null, -82.63864434573149, -82.36787898993309, null, -82.63864434573149, -82.00548575216864, null, -82.63864434573149, -82.72608330449034, null, -80.77926724954543, -80.21732867194231, null, -80.77926724954543, -80.80110088456121, null, -80.77926724954543, -80.90355574542349, null, -80.77926724954543, -80.38154084718205, null, -80.77926724954543, -81.27523213870799, null, -81.16065821958438, -81.11635659322407, null, -81.16065821958438, -81.61941198857592, null, -81.16065821958438, -80.70532152043123, null, -81.16065821958438, -81.18075193914669, null, -80.15513657221686, -79.94766203100053, null, -80.15513657221686, -80.59071958892434, null, -80.15513657221686, -79.67503780987839, null, -80.15513657221686, -80.70532152043123, null, -81.61753483635475, -81.99304774386157, null, -81.61753483635475, -81.61941198857592, null, -81.61753483635475, -81.18075193914669, null, -79.38129693944546, -78.99835195755458, null, -79.38129693944546, -79.67503780987839, null, -79.38129693944546, -79.70327261780876, null, -79.38129693944546, -79.36075476861357, null, -82.36787898993309, -81.99304774386157, null, -82.36787898993309, -82.46049779491187, null, -82.36787898993309, -82.63864434573149, null, -82.36787898993309, -82.00548575216864, null, -82.36787898993309, -82.72608330449034, null, -82.12589582437793, -81.72554770522893, null, -82.12589582437793, -81.9637609055562, null, -82.12589582437793, -82.30970462286486, null, -82.12589582437793, -81.59608974797503, null, -82.12589582437793, -82.46049779491187, null, -82.12589582437793, -82.00548575216864, null, -78.99835195755458, -79.38129693944546, null, -78.99835195755458, -79.33229255547403, null, -78.99835195755458, -79.36075476861357, null, -82.00548575216864, -81.59608974797503, null, -82.00548575216864, -81.99304774386157, null, -82.00548575216864, -82.46049779491187, null, -82.00548575216864, -82.63864434573149, null, -82.00548575216864, -82.36787898993309, null, -82.00548575216864, -82.12589582437793, null, -82.00548575216864, -81.61941198857592, null, -79.67503780987839, -79.94766203100053, null, -79.67503780987839, -80.15513657221686, null, -79.67503780987839, -79.38129693944546, null, -79.67503780987839, -79.70327261780876, null, -81.61941198857592, -81.11635659322407, null, -81.61941198857592, -81.59608974797503, null, -81.61941198857592, -81.99304774386157, null, -81.61941198857592, -81.16065821958438, null, -81.61941198857592, -81.61753483635475, null, -81.61941198857592, -82.00548575216864, null, -81.61941198857592, -81.18075193914669, null, -80.66791449189651, -81.35409318076069, null, -80.66791449189651, -81.06173428301263, null, -80.66791449189651, -81.14125832000747, null, -80.66791449189651, -80.80110088456121, null, -80.66791449189651, -80.40264621104588, null, -80.66791449189651, -80.72696829521571, null, -80.66791449189651, -79.95161252403413, null, -79.70327261780876, -80.21732867194231, null, -79.70327261780876, -79.94766203100053, null, -79.70327261780876, -80.25727652526221, null, -79.70327261780876, -80.38154084718205, null, -79.70327261780876, -79.72977640881734, null, -79.70327261780876, -79.38129693944546, null, -79.70327261780876, -79.67503780987839, null, -79.70327261780876, -79.36075476861357, null, -79.33229255547403, -79.72977640881734, null, -79.33229255547403, -78.99835195755458, null, -79.33229255547403, -79.95161252403413, null, -79.33229255547403, -79.36075476861357, null, -79.33229255547403, -79.95243934238543, null, -81.43664690856407, -81.35409318076069, null, -81.43664690856407, -81.06173428301263, null, -81.43664690856407, -80.80110088456121, null, -81.43664690856407, -81.63829900450047, null, -80.72696829521571, -81.14125832000747, null, -80.72696829521571, -81.03015755977401, null, -80.72696829521571, -80.66791449189651, null, -79.95161252403413, -80.40264621104588, null, -79.95161252403413, -80.66791449189651, null, -79.95161252403413, -79.33229255547403, null, -79.95161252403413, -79.95243934238543, null, -80.70532152043123, -81.11635659322407, null, -80.70532152043123, -80.59071958892434, null, -80.70532152043123, -81.16065821958438, null, -80.70532152043123, -80.15513657221686, null, -80.70532152043123, -81.18075193914669, null, -81.18075193914669, -81.16065821958438, null, -81.18075193914669, -81.61753483635475, null, -81.18075193914669, -81.61941198857592, null, -81.18075193914669, -80.70532152043123, null, -81.27523213870799, -80.80110088456121, null, -81.27523213870799, -81.72554770522893, null, -81.27523213870799, -81.59608974797503, null, -81.27523213870799, -80.90355574542349, null, -81.27523213870799, -81.63829900450047, null, -81.27523213870799, -80.77926724954543, null, -79.36075476861357, -79.72977640881734, null, -79.36075476861357, -79.38129693944546, null, -79.36075476861357, -78.99835195755458, null, -79.36075476861357, -79.70327261780876, null, -79.36075476861357, -79.33229255547403, null, -82.72608330449034, -83.06965243844782, null, -82.72608330449034, -82.63864434573149, null, -82.72608330449034, -82.36787898993309, null, -79.95243934238543, -80.21732867194231, null, -79.95243934238543, -80.80110088456121, null, -79.95243934238543, -80.40264621104588, null, -79.95243934238543, -79.72977640881734, null, -79.95243934238543, -79.33229255547403, null, -79.95243934238543, -79.95161252403413, null], \"mode\": \"lines\", \"opacity\": 0.5, \"type\": \"scattergeo\"}, {\"lat\": [33.02663, 32.940244, 32.839139, 32.744964, 32.747027, 32.810514, 32.963816, 32.978998, 32.998572, 33.010224, 33.024506, 33.045654, 33.092534, 33.158279, 33.108061, 33.118668, 33.02663], \"line\": {\"color\": \"black\", \"width\": 1}, \"lon\": [-81.082291, -81.236956, -81.261662, -81.405134, -81.404949, -81.423772, -81.49983, -81.494736, -81.491495, -81.496637, -81.51169, -81.541831, -81.615756, -81.541881, -81.364857, -81.193099, -81.082291], \"mode\": \"lines\", \"opacity\": 0.5, \"type\": \"scattergeo\"}, {\"lat\": [33.439493, 33.308047, 33.176944, 33.02663, 33.118668, 33.160697, 33.44, 33.439044, 33.439493], \"line\": {\"color\": \"black\", \"width\": 1}, \"lon\": [-81.22011, -80.948756, -80.797912, -81.082291, -81.193099, -81.227804, -81.222673, -81.22155, -81.22011], \"mode\": \"lines\", \"opacity\": 0.5, \"type\": \"scattergeo\"}, {\"lat\": [33.643911, 33.714265, 33.71555, 33.767821, 33.803708, 33.946527, 33.885717, 33.885245, 33.767906, 33.72159, 33.496891, 33.443716, 33.430408, 33.558481, 33.643911], \"line\": {\"color\": \"black\", \"width\": 1}, \"lon\": [-80.534085, -80.478709, -80.392003, -80.397131, -80.255904, -79.974601, -79.945584, -79.87562, -79.995638, -79.974382, -80.101697, -80.222267, -80.354539, -80.496273, -80.534085], \"mode\": \"lines\", \"opacity\": 0.5, \"type\": \"scattergeo\"}, {\"lat\": [34.26876, 34.213872, 34.174552, 34.239458, 34.494379, 34.503224, 34.524073, 34.529482, 34.55599, 34.566588, 34.572029, 34.545341, 34.543146, 34.457776, 34.377111, 34.26876], \"line\": {\"color\": \"black\", \"width\": 1}, \"lon\": [-80.825921, -81.095863, -81.178293, -81.316911, -81.423241, -81.421139, -81.424907, -81.427545, -81.424304, -81.419829, -81.422706, -80.949774, -80.877491, -80.879227, -80.769926, -80.825921], \"mode\": \"lines\", \"opacity\": 0.5, \"type\": \"scattergeo\"}, {\"lat\": [32.704321, 32.700038, 32.660935, 32.621561, 32.753058, 32.544831, 32.559722, 32.561228, 32.569294, 32.595385, 32.595436, 32.61841, 32.629392, 32.634704, 32.63744, 32.744964, 32.839139, 32.940244, 33.02663, 32.832813, 32.704321], \"line\": {\"color\": \"black\", \"width\": 1}, \"lon\": [-80.826309, -80.837033, -80.869705, -80.902448, -81.014625, -81.286776, -81.318255, -81.328753, -81.348155, -81.389258, -81.389338, -81.411906, -81.41866, -81.418431, -81.414761, -81.405134, -81.261662, -81.236956, -81.082291, -80.900196, -80.826309], \"mode\": \"lines\", \"opacity\": 0.5, \"type\": \"scattergeo\"}, {\"lat\": [32.079792, 32.051943, 32.043764, 32.0346, 32.072225, 32.084508, 32.087935, 32.113205, 32.117605, 32.161803, 32.22713, 32.276297, 32.285796, 32.305395, 32.341693, 32.349393, 32.368391, 32.467286, 32.539457, 32.544831, 32.753058, 32.621561, 32.660935, 32.411836, 32.300369, 32.306196, 32.241923, 32.079792], \"line\": {\"color\": \"black\", \"width\": 1}, \"lon\": [-80.878111, -80.905378, -80.892344, -80.885517, -81.004115, -81.042833, -81.06185, -81.113334, -81.117234, -81.122034, -81.125457, -81.128034, -81.120333, -81.122333, -81.134332, -81.140932, -81.168032, -81.199029, -81.275415, -81.286776, -81.014625, -80.902448, -80.869705, -80.829489, -80.934935, -81.006432, -81.016341, -80.878111], \"mode\": \"lines\", \"opacity\": 0.5, \"type\": \"scattergeo\"}, {\"lat\": [33.439493, 33.439044, 33.44, 33.490417, 33.49051, 33.652937, 33.695315, 33.707131, 33.608798, 33.619285, 33.604081, 33.470982, 33.565414, 33.558481, 33.430408, 33.443716, 33.29926, 33.257443, 33.280034, 33.334496, 33.18084, 33.181077, 33.17984, 33.178648, 33.17693, 33.176944, 33.308047, 33.439493], \"line\": {\"color\": \"black\", \"width\": 1}, \"lon\": [-81.22011, -81.22155, -81.222673, -81.372931, -81.373494, -81.187271, -81.086803, -81.042854, -80.93979, -80.879528, -80.807631, -80.65902, -80.552272, -80.496273, -80.354539, -80.222267, -80.253836, -80.361851, -80.484578, -80.50279, -80.790296, -80.791667, -80.793002, -80.793711, -80.795864, -80.797912, -80.948756, -81.22011], \"mode\": \"lines\", \"opacity\": 0.5, \"type\": \"scattergeo\"}, {\"lat\": [33.87723, 33.81451, 33.866501, 33.975415, 33.961646, 34.135357, 34.17933, 34.187613, 34.081744, 34.076552, 33.87723], \"line\": {\"color\": \"black\", \"width\": 1}, \"lon\": [-81.571485, -81.651759, -81.836803, -81.894595, -82.008298, -81.870084, -81.86064, -81.731614, -81.538899, -81.471972, -81.571485], \"mode\": \"lines\", \"opacity\": 0.5, \"type\": \"scattergeo\"}, {\"lat\": [34.086013, 34.128666, 34.197018, 34.366203, 34.364139, 34.364572, 34.365305, 34.366207, 34.492631, 34.491218, 34.531925, 34.485416, 34.436797, 34.40049, 34.30519, 34.204112, 34.129007, 34.086013], \"line\": {\"color\": \"black\", \"width\": 1}, \"lon\": [-80.072808, -80.131441, -80.112727, -80.177225, -80.288692, -80.286936, -80.28688, -80.288596, -80.045439, -79.884542, -79.829981, -79.721794, -79.750566, -79.684559, -79.657764, -79.883065, -79.999789, -80.072808], \"mode\": \"lines\", \"opacity\": 0.5, \"type\": \"scattergeo\"}, {\"lat\": [33.257443, 33.130274, 33.119213, 33.021601, 32.927811, 32.845651, 32.84127, 32.830114, 32.818904, 32.858466, 33.043909, 33.06608, 33.15647, 33.18084, 33.334496, 33.280034, 33.257443], \"line\": {\"color\": \"black\", \"width\": 1}, \"lon\": [-80.361851, -80.299248, -80.279567, -80.149246, -80.079028, -80.17446, -80.16313, -80.158808, -80.148108, -80.40134, -80.390533, -80.6221, -80.709736, -80.790296, -80.50279, -80.484578, -80.361851], \"mode\": \"lines\", \"opacity\": 0.5, \"type\": \"scattergeo\"}, {\"lat\": [33.81451, 33.532156, 33.530313, 33.544934, 33.56383, 33.575382, 33.586358, 33.589723, 33.633869, 33.690316, 33.765711, 33.82988, 33.92929, 33.95321, 33.961646, 33.975415, 33.866501, 33.81451], \"line\": {\"color\": \"black\", \"width\": 1}, \"lon\": [-81.651759, -82.012534, -82.014293, -82.028238, -82.046335, -82.069039, -82.098816, -82.11663, -82.095527, -82.166027, -82.172379, -82.113728, -82.1557, -82.046974, -82.008298, -81.894595, -81.836803, -81.651759], \"mode\": \"lines\", \"opacity\": 0.5, \"type\": \"scattergeo\"}, {\"lat\": [34.168696, 34.101549, 34.101671, 34.109176, 34.099605, 34.097666, 34.095633, 34.09399, 34.088774, 34.085743, 34.083732, 34.08461, 34.081603, 34.08128, 34.068972, 34.182389, 34.26876, 34.377111, 34.457776, 34.539916, 34.479957, 34.509752, 34.560116, 34.614765, 34.501349, 34.366207, 34.365305, 34.364572, 34.364139, 34.294301, 34.168696], \"line\": {\"color\": \"black\", \"width\": 1}, \"lon\": [-80.479857, -80.578081, -80.604403, -80.618542, -80.616186, -80.635594, -80.639534, -80.646696, -80.658325, -80.658978, -80.67297, -80.676421, -80.683662, -80.692965, -80.719318, -80.869733, -80.825921, -80.769926, -80.879227, -80.743345, -80.739966, -80.523945, -80.550552, -80.408373, -80.328553, -80.288596, -80.28688, -80.286936, -80.288692, -80.421654, -80.479857], \"mode\": \"lines\", \"opacity\": 0.5, \"type\": \"scattergeo\"}, {\"lat\": [34.0351, 34.036722, 34.036706, 34.036829, 34.080356, 34.112622, 34.168696, 34.294301, 34.364139, 34.366203, 34.197018, 34.128666, 34.086013, 34.047877, 33.952002, 34.0351], \"line\": {\"color\": \"black\", \"width\": 1}, \"lon\": [-80.26906, -80.278461, -80.278827, -80.279339, -80.321721, -80.481318, -80.479857, -80.421654, -80.288692, -80.177225, -80.112727, -80.131441, -80.072808, -80.000594, -80.180371, -80.26906], \"mode\": \"lines\", \"opacity\": 0.5, \"type\": \"scattergeo\"}, {\"lat\": [33.95321, 33.92929, 33.82988, 33.765711, 33.690316, 33.633869, 33.589723, 33.591274, 33.589925, 33.591044, 33.615945, 33.630582, 33.686299, 33.752591, 33.801864, 33.820033, 33.865477, 33.86632, 33.863754, 33.865844, 33.955744, 33.95581, 34.01239, 34.071925, 34.06412, 33.971584, 34.018781, 33.978597, 33.983396, 33.95321], \"line\": {\"color\": \"black\", \"width\": 1}, \"lon\": [-82.046974, -82.1557, -82.113728, -82.172379, -82.166027, -82.095527, -82.11663, -82.124841, -82.12908, -82.135046, -82.179854, -82.196583, -82.218649, -82.247472, -82.301457, -82.32448, -82.403881, -82.408354, -82.422803, -82.429164, -82.564483, -82.564582, -82.597079, -82.530567, -82.326947, -82.306243, -82.245055, -82.200286, -82.04513, -82.046974], \"mode\": \"lines\", \"opacity\": 0.5, \"type\": \"scattergeo\"}, {\"lat\": [34.197587, 34.129963, 34.080227, 34.076552, 34.081744, 34.187613, 34.17933, 34.135357, 34.203148, 34.29988, 34.365089, 34.533652, 34.445027, 34.494379, 34.239458, 34.20503, 34.197587], \"line\": {\"color\": \"black\", \"width\": 1}, \"lon\": [-81.338961, -81.437172, -81.388564, -81.471972, -81.538899, -81.731614, -81.86064, -81.870084, -81.945019, -81.895713, -81.782627, -81.643552, -81.54043, -81.423241, -81.316911, -81.345328, -81.338961], \"mode\": \"lines\", \"opacity\": 0.5, \"type\": \"scattergeo\"}, {\"lat\": [35.056021, 34.971836, 34.74244, 34.623212, 34.479198, 34.479072, 34.474549, 34.474376, 34.483495, 34.493062, 34.504349, 34.515939, 34.534053, 34.592398, 34.598798, 34.600424, 34.624307, 34.624507, 34.653396, 34.687681, 34.687924, 34.701703, 34.713243, 34.714456, 34.715993, 34.716111, 34.741266, 34.788691, 34.821328, 34.832748, 34.877749, 34.924756, 35.000771, 35.026974, 35.056021], \"line\": {\"color\": \"black\", \"width\": 1}, \"lon\": [-82.897499, -82.915785, -82.900144, -82.840253, -82.992215, -82.992671, -82.995284, -83.006848, -83.034712, -83.052161, -83.072746, -83.087189, -83.106874, -83.170278, -83.170978, -83.167523, -83.240676, -83.240669, -83.291683, -83.337867, -83.338194, -83.351293, -83.350976, -83.351392, -83.352485, -83.352422, -83.339129, -83.32406, -83.283151, -83.267293, -83.242962, -83.143261, -83.108535, -83.008447, -82.897499], \"mode\": \"lines\", \"opacity\": 0.5, \"type\": \"scattergeo\"}, {\"lat\": [33.761742, 33.813735, 33.88008, 34.005253, 34.07795, 34.097381, 34.197587, 34.20503, 34.239458, 34.174552, 34.213872, 34.26876, 34.182389, 34.068972, 34.08128, 34.081603, 34.08461, 34.083732, 34.085743, 34.088774, 34.09399, 34.095633, 34.097666, 34.099605, 33.85268, 33.743237, 33.761742], \"line\": {\"color\": \"black\", \"width\": 1}, \"lon\": [-80.747337, -80.91731, -81.01233, -81.059715, -81.153617, -81.275845, -81.338961, -81.345328, -81.316911, -81.178293, -81.095863, -80.825921, -80.869733, -80.719318, -80.692965, -80.683662, -80.676421, -80.67297, -80.658978, -80.658325, -80.646696, -80.639534, -80.635594, -80.616186, -80.633545, -80.620107, -80.747337], \"mode\": \"lines\", \"opacity\": 0.5, \"type\": \"scattergeo\"}, {\"lat\": [34.668587, 34.785554, 34.850171, 35.196044, 35.194951, 35.194355, 35.19379, 35.193699, 35.187215, 35.184113, 34.932672, 34.912577, 34.837125, 34.594549, 34.668587], \"line\": {\"color\": \"black\", \"width\": 1}, \"lon\": [-82.012297, -82.146792, -82.225698, -82.216217, -82.195483, -82.185513, -82.176874, -82.167676, -81.969325, -81.874433, -81.754911, -81.711694, -81.78339, -81.854002, -82.012297], \"mode\": \"lines\", \"opacity\": 0.5, \"type\": \"scattergeo\"}, {\"lat\": [34.0351, 33.952002, 34.047877, 33.988017, 33.946527, 33.803708, 33.767821, 33.71555, 33.714265, 33.643911, 33.743237, 33.85268, 34.099605, 34.109176, 34.101671, 34.101549, 34.168696, 34.112622, 34.080356, 34.036829, 34.036706, 34.036722, 34.0351], \"line\": {\"color\": \"black\", \"width\": 1}, \"lon\": [-80.26906, -80.180371, -80.000594, -79.893517, -79.974601, -80.255904, -80.397131, -80.392003, -80.478709, -80.534085, -80.620107, -80.633545, -80.616186, -80.618542, -80.604403, -80.578081, -80.479857, -80.481318, -80.321721, -80.279339, -80.278827, -80.278461, -80.26906], \"mode\": \"lines\", \"opacity\": 0.5, \"type\": \"scattergeo\"}, {\"lat\": [33.799123, 33.794965, 33.790511, 33.789247, 33.785434, 33.779878, 33.68889, 33.572702, 33.496896, 33.304944, 33.329699, 33.500937, 33.496891, 33.72159, 33.767906, 33.885245, 33.835562, 33.775357, 33.799123], \"line\": {\"color\": \"black\", \"width\": 1}, \"lon\": [-79.324317, -79.323988, -79.320443, -79.323081, -79.319664, -79.317041, -79.409332, -79.435733, -79.53808, -79.677014, -79.756172, -79.971963, -80.101697, -79.974382, -79.995638, -79.87562, -79.79837, -79.496486, -79.324317], \"mode\": \"lines\", \"opacity\": 0.5, \"type\": \"scattergeo\"}, {\"lat\": [34.06412, 34.071925, 34.01239, 34.088341, 34.088914, 34.099704, 34.100346, 34.103118, 34.103544, 34.12016, 34.131657, 34.141007, 34.150504, 34.178363, 34.208709, 34.484002, 34.409676, 34.34263, 34.219619, 34.10836, 34.06412], \"line\": {\"color\": \"black\", \"width\": 1}, \"lon\": [-82.326947, -82.530567, -82.597079, -82.640701, -82.641252, -82.652175, -82.654019, -82.658561, -82.659077, -82.668113, -82.67732, -82.70414, -82.717507, -82.731881, -82.741491, -82.313996, -82.246337, -82.334234, -82.247747, -82.267184, -82.326947], \"mode\": \"lines\", \"opacity\": 0.5, \"type\": \"scattergeo\"}, {\"lat\": [33.825522, 33.732161, 33.652937, 33.49051, 33.490417, 33.489652, 33.382239, 33.198148, 33.18012, 33.247408, 33.247544, 33.331242, 33.408811, 33.468632, 33.480636, 33.522835, 33.523335, 33.530313, 33.532156, 33.81451, 33.87723, 33.871845, 33.865324, 33.862645, 33.860547, 33.860657, 33.858683, 33.851915, 33.848407, 33.845608, 33.844531, 33.841496, 33.837454, 33.832154, 33.829799, 33.826967, 33.825522], \"line\": {\"color\": \"black\", \"width\": 1}, \"lon\": [-81.522124, -81.415308, -81.187271, -81.373494, -81.372931, -81.374827, -81.516419, -81.757035, -81.772251, -81.851975, -81.852136, -81.902737, -81.912572, -81.957934, -81.967037, -82.007138, -82.007638, -82.014293, -82.012534, -81.651759, -81.571485, -81.569149, -81.563671, -81.560733, -81.554531, -81.551552, -81.546946, -81.540865, -81.542263, -81.540866, -81.538679, -81.538291, -81.534438, -81.53359, -81.527148, -81.52286, -81.522124], \"mode\": \"lines\", \"opacity\": 0.5, \"type\": \"scattergeo\"}, {\"lat\": [34.819475, 34.625114, 34.557089, 34.484002, 34.208709, 34.210063, 34.224913, 34.227343, 34.230196, 34.276067, 34.293509, 34.423844, 34.468891, 34.471508, 34.479003, 34.485902, 34.486202, 34.482702, 34.479198, 34.623212, 34.672017, 34.819475], \"line\": {\"color\": \"black\", \"width\": 1}, \"lon\": [-82.486746, -82.453789, -82.419665, -82.313996, -82.741491, -82.74192, -82.744415, -82.743461, -82.74198, -82.755028, -82.766078, -82.848651, -82.874864, -82.873831, -82.882864, -82.902665, -82.939067, -82.979568, -82.992215, -82.840253, -82.788664, -82.486746], \"mode\": \"lines\", \"opacity\": 0.5, \"type\": \"scattergeo\"}, {\"lat\": [33.88008, 33.813735, 33.761742, 33.743237, 33.643911, 33.558481, 33.565414, 33.470982, 33.604081, 33.619285, 33.608798, 33.707131, 33.755583, 33.747053, 33.88008], \"line\": {\"color\": \"black\", \"width\": 1}, \"lon\": [-81.01233, -80.91731, -80.747337, -80.620107, -80.534085, -80.496273, -80.552272, -80.65902, -80.807631, -80.879528, -80.93979, -81.042854, -80.926321, -81.058521, -81.01233], \"mode\": \"lines\", \"opacity\": 0.5, \"type\": \"scattergeo\"}, {\"lat\": [34.821509, 34.820746, 34.695847, 34.631781, 34.543146, 34.545341, 34.572029, 34.821509], \"line\": {\"color\": \"black\", \"width\": 1}, \"lon\": [-81.478454, -80.898215, -80.860274, -80.896406, -80.877491, -80.949774, -81.422706, -81.478454], \"mode\": \"lines\", \"opacity\": 0.5, \"type\": \"scattergeo\"}, {\"lat\": [34.366207, 34.501349, 34.614765, 34.817481, 34.817481, 34.816732, 34.816396, 34.816332, 34.815968, 34.81581, 34.815581, 34.815622, 34.815508, 34.815128, 34.813813, 34.810147, 34.810147, 34.809716, 34.809736, 34.809097, 34.808726, 34.806555, 34.693841, 34.614868, 34.531925, 34.491218, 34.492631, 34.366207], \"line\": {\"color\": \"black\", \"width\": 1}, \"lon\": [-80.288596, -80.328553, -80.408373, -80.561674, -80.561657, -80.485683, -80.45166, -80.448766, -80.434843, -80.425902, -80.419586, -80.418433, -80.417014, -80.399871, -80.320413, -80.098994, -80.098022, -80.077223, -80.072912, -80.042764, -80.027464, -79.927618, -79.871959, -79.778249, -79.829981, -79.884542, -80.045439, -80.288596], \"mode\": \"lines\", \"opacity\": 0.5, \"type\": \"scattergeo\"}, {\"lat\": [34.83928, 34.866221, 34.912577, 34.932672, 35.184113, 35.183492, 35.180132, 35.169882, 35.169951, 35.168657, 35.168293, 35.164893, 35.164889, 35.046396, 35.029516, 34.83928], \"line\": {\"color\": \"black\", \"width\": 1}, \"lon\": [-81.457257, -81.481613, -81.711694, -81.754911, -81.874433, -81.857832, -81.768073, -81.494265, -81.493401, -81.461408, -81.452398, -81.366691, -81.366599, -81.409586, -81.488434, -81.457257], \"mode\": \"lines\", \"opacity\": 0.5, \"type\": \"scattergeo\"}, {\"lat\": [34.230913, 34.297994, 34.621036, 34.545358, 34.521869, 34.516282, 34.514634, 34.406699, 34.40104, 34.399751, 34.366753, 34.359817, 34.29924, 34.253652, 34.300572, 34.288081, 34.230913], \"line\": {\"color\": \"black\", \"width\": 1}, \"lon\": [-79.54793, -79.633413, -79.450034, -79.358317, -79.331328, -79.324854, -79.323249, -79.198982, -79.192041, -79.190739, -79.151485, -79.143242, -79.071169, -79.128165, -79.380264, -79.480712, -79.54793], \"mode\": \"lines\", \"opacity\": 0.5, \"type\": \"scattergeo\"}, {\"lat\": [34.686303, 34.535962, 34.484002, 34.557089, 34.625114, 34.819475, 35.015696, 35.073973, 35.068177, 35.11979, 35.121822, 35.142268, 35.141963, 35.144216, 35.159137, 35.158699, 35.162643, 35.163029, 35.175486, 35.210542, 35.206595, 35.198605, 35.198636, 35.196784, 35.196764, 35.196044, 34.850171, 34.785554, 34.686303], \"line\": {\"color\": \"black\", \"width\": 1}, \"lon\": [-82.193006, -82.236, -82.313996, -82.419665, -82.453789, -82.486746, -82.537866, -82.588598, -82.764464, -82.686738, -82.686496, -82.582264, -82.580127, -82.574406, -82.536527, -82.535804, -82.517284, -82.51691, -82.476136, -82.384029, -82.35243, -82.288453, -82.257515, -82.230915, -82.230517, -82.216217, -82.225698, -82.146792, -82.193006], \"mode\": \"lines\", \"opacity\": 0.5, \"type\": \"scattergeo\"}, {\"lat\": [34.135357, 33.961646, 33.95321, 33.983396, 33.978597, 34.018781, 33.971584, 34.06412, 34.10836, 34.219619, 34.34263, 34.409676, 34.330746, 34.203148, 34.135357], \"line\": {\"color\": \"black\", \"width\": 1}, \"lon\": [-81.870084, -82.008298, -82.046974, -82.04513, -82.200286, -82.245055, -82.306243, -82.326947, -82.267184, -82.247747, -82.334234, -82.246337, -82.169297, -81.945019, -81.870084], \"mode\": \"lines\", \"opacity\": 0.5, \"type\": \"scattergeo\"}, {\"lat\": [33.572114, 33.571807, 33.705787, 33.969722, 34.235362, 34.241458, 34.253652, 34.29924, 33.996732, 33.994688, 33.944035, 33.851112, 33.847831, 33.844282, 33.817587, 33.800138, 33.768511, 33.743472, 33.705654, 33.639826, 33.572114], \"line\": {\"color\": \"black\", \"width\": 1}, \"lon\": [-79.002109, -79.100653, -79.190264, -79.339076, -79.126681, -79.135118, -79.128165, -79.071169, -78.712206, -78.710141, -78.6505, -78.541087, -78.553944, -78.584841, -78.67226, -78.714116, -78.772737, -78.812931, -78.862931, -78.938076, -79.002109], \"mode\": \"lines\", \"opacity\": 0.5, \"type\": \"scattergeo\"}, {\"lat\": [34.484002, 34.535962, 34.686303, 34.785554, 34.668587, 34.594549, 34.533652, 34.365089, 34.29988, 34.203148, 34.330746, 34.409676, 34.484002], \"line\": {\"color\": \"black\", \"width\": 1}, \"lon\": [-82.313996, -82.236, -82.193006, -82.146792, -82.012297, -81.854002, -81.643552, -81.782627, -81.895713, -81.945019, -82.169297, -82.246337, -82.313996], \"mode\": \"lines\", \"opacity\": 0.5, \"type\": \"scattergeo\"}, {\"lat\": [34.805651, 34.804973, 34.804937, 34.804897, 34.771012, 34.768835, 34.711996, 34.706363, 34.678327, 34.677321, 34.653819, 34.64464, 34.6372, 34.635323, 34.630432, 34.630126, 34.629027, 34.621036, 34.297994, 34.301299, 34.299762, 34.30119, 34.30519, 34.40049, 34.436797, 34.485416, 34.531925, 34.614868, 34.693841, 34.806555, 34.805931, 34.805954, 34.805686, 34.805651], \"line\": {\"color\": \"black\", \"width\": 1}, \"lon\": [-79.744116, -79.692948, -79.690201, -79.688088, -79.634216, -79.631577, -79.561691, -79.554454, -79.520269, -79.519043, -79.490201, -79.479305, -79.471599, -79.468717, -79.461754, -79.461318, -79.459766, -79.450034, -79.633413, -79.635373, -79.641751, -79.644463, -79.657764, -79.684559, -79.750566, -79.721794, -79.829981, -79.778249, -79.871959, -79.927618, -79.773607, -79.772829, -79.744925, -79.744116], \"mode\": \"lines\", \"opacity\": 0.5, \"type\": \"scattergeo\"}, {\"lat\": [34.594549, 34.837125, 34.912577, 34.866221, 34.83928, 34.831018, 34.821509, 34.572029, 34.566588, 34.55599, 34.529482, 34.524073, 34.503224, 34.494379, 34.445027, 34.533652, 34.594549], \"line\": {\"color\": \"black\", \"width\": 1}, \"lon\": [-81.854002, -81.78339, -81.711694, -81.481613, -81.457257, -81.461755, -81.478454, -81.422706, -81.419829, -81.424304, -81.427545, -81.424907, -81.421139, -81.423241, -81.54043, -81.643552, -81.854002], \"mode\": \"lines\", \"opacity\": 0.5, \"type\": \"scattergeo\"}, {\"lat\": [32.48539, 32.565769, 32.612683, 32.665535, 32.704321, 32.832813, 33.02663, 33.176944, 33.17693, 33.178648, 33.17984, 33.181077, 33.18084, 33.15647, 33.06608, 33.043909, 32.858466, 32.727477, 32.647906, 32.546318, 32.500187, 32.529584, 32.516161, 32.478104, 32.47873, 32.490795, 32.496098, 32.486359, 32.47881, 32.475332, 32.470672, 32.472074, 32.476076, 32.490894, 32.497989, 32.503472, 32.497286, 32.4953, 32.496964, 32.48539], \"line\": {\"color\": \"black\", \"width\": 1}, \"lon\": [-80.47691, -80.551504, -80.659751, -80.66774, -80.826309, -80.900196, -81.082291, -80.797912, -80.795864, -80.793711, -80.793002, -80.791667, -80.790296, -80.709736, -80.6221, -80.390533, -80.40134, -80.446077, -80.389955, -80.416586, -80.352823, -80.249566, -80.277681, -80.332438, -80.338354, -80.343883, -80.363956, -80.380716, -80.386827, -80.392561, -80.413487, -80.415943, -80.417896, -80.418502, -80.423454, -80.439407, -80.452078, -80.46571, -80.472068, -80.47691], \"mode\": \"lines\", \"opacity\": 0.5, \"type\": \"scattergeo\"}, {\"lat\": [34.219676, 34.175087, 34.097207, 33.937537, 33.799123, 33.775357, 33.835562, 33.885245, 33.885717, 33.946527, 33.988017, 34.047877, 34.086013, 34.129007, 34.204112, 34.30519, 34.30119, 34.299762, 34.301299, 34.297994, 34.230913, 34.225186, 34.219676], \"line\": {\"color\": \"black\", \"width\": 1}, \"lon\": [-79.544036, -79.568984, -79.515308, -79.482549, -79.324317, -79.496486, -79.79837, -79.87562, -79.945584, -79.974601, -79.893517, -80.000594, -80.072808, -79.999789, -79.883065, -79.657764, -79.644463, -79.641751, -79.635373, -79.633413, -79.54793, -79.54404, -79.544036], \"mode\": \"lines\", \"opacity\": 0.5, \"type\": \"scattergeo\"}, {\"lat\": [33.69425, 33.703126, 33.703438, 33.710101, 33.705787, 33.571807, 33.572114, 33.566565, 33.533365, 33.523773, 33.483669, 33.461016, 33.403867, 33.378243, 33.350925, 33.332811, 33.327246, 33.254141, 33.237955, 33.206577, 33.173712, 33.166016, 33.155569, 33.137055, 33.124865, 33.110051, 33.136043, 33.184929, 33.198159, 33.215136, 33.213458, 33.304944, 33.496896, 33.572702, 33.68889, 33.779878, 33.778554, 33.775846, 33.771973, 33.76623, 33.763449, 33.75883, 33.757025, 33.754324, 33.75228, 33.750167, 33.747135, 33.743757, 33.741144, 33.739116, 33.737386, 33.735701, 33.734349, 33.732392, 33.728981, 33.723526, 33.718807, 33.717597, 33.715972, 33.716324, 33.718226, 33.721855, 33.719893, 33.717788, 33.71571, 33.714319, 33.711077, 33.708852, 33.708116, 33.708557, 33.710893, 33.710979, 33.710275, 33.707364, 33.706001, 33.704375, 33.703399, 33.703617, 33.702742, 33.703424, 33.705717, 33.706114, 33.705397, 33.703728, 33.702598, 33.701515, 33.700817, 33.699302, 33.696975, 33.695347, 33.694417, 33.69425], \"line\": {\"color\": \"black\", \"width\": 1}, \"lon\": [-79.235068, -79.208955, -79.195161, -79.199432, -79.190264, -79.100653, -79.002109, -79.007356, -79.028516, -79.041125, -79.084588, -79.10136, -79.135441, -79.147496, -79.152035, -79.158429, -79.162332, -79.180318, -79.180563, -79.172394, -79.18787, -79.195631, -79.215453, -79.238262, -79.24609, -79.290754, -79.268762, -79.404858, -79.413588, -79.438387, -79.446699, -79.677014, -79.53808, -79.435733, -79.409332, -79.317041, -79.316294, -79.313573, -79.30883, -79.306679, -79.30468, -79.300613, -79.298706, -79.294779, -79.293312, -79.292578, -79.29291, -79.294366, -79.293978, -79.290436, -79.286248, -79.286157, -79.289351, -79.29139, -79.291574, -79.288312, -79.28717, -79.286441, -79.282995, -79.280518, -79.278604, -79.271664, -79.269597, -79.269411, -79.271326, -79.274935, -79.274694, -79.275057, -79.273306, -79.271676, -79.26925, -79.266927, -79.265011, -79.264683, -79.265102, -79.267863, -79.267586, -79.261467, -79.258107, -79.24977, -79.244897, -79.243348, -79.241463, -79.240279, -79.240644, -79.242086, -79.247339, -79.249581, -79.249309, -79.246384, -79.23888, -79.235068], \"mode\": \"lines\", \"opacity\": 0.5, \"type\": \"scattergeo\"}, {\"lat\": [33.18012, 33.198148, 33.382239, 33.489652, 33.490417, 33.44, 33.160697, 33.118668, 33.108061, 33.158279, 33.092534, 33.095408, 33.116551, 33.18012], \"line\": {\"color\": \"black\", \"width\": 1}, \"lon\": [-81.772251, -81.757035, -81.516419, -81.374827, -81.372931, -81.222673, -81.227804, -81.193099, -81.364857, -81.541881, -81.615756, -81.620287, -81.696934, -81.772251], \"mode\": \"lines\", \"opacity\": 0.5, \"type\": \"scattergeo\"}, {\"lat\": [32.704321, 32.665535, 32.612683, 32.565769, 32.48539, 32.477407, 32.460976, 32.447048, 32.425259, 32.423721, 32.410659, 32.401782, 32.389667, 32.375193, 32.350335, 32.336884, 32.326458, 32.31917, 32.298796, 32.287024, 32.282076, 32.273278, 32.273549, 32.260183, 32.255618, 32.248638, 32.216783, 32.200971, 32.160427, 32.140137, 32.122494, 32.109746, 32.108589, 32.113222, 32.112709, 32.109709, 32.099581, 32.079792, 32.241923, 32.306196, 32.300369, 32.411836, 32.660935, 32.700038, 32.704321], \"line\": {\"color\": \"black\", \"width\": 1}, \"lon\": [-80.826309, -80.66774, -80.659751, -80.551504, -80.47691, -80.48025, -80.484617, -80.480156, -80.467588, -80.446075, -80.43296, -80.429941, -80.429291, -80.434303, -80.445451, -80.456814, -80.455192, -80.466342, -80.517871, -80.539429, -80.545688, -80.571096, -80.596394, -80.618286, -80.638857, -80.658634, -80.669166, -80.688857, -80.721463, -80.749091, -80.789996, -80.812503, -80.82153, -80.828394, -80.831531, -80.844431, -80.858735, -80.878111, -81.016341, -81.006432, -80.934935, -80.829489, -80.869705, -80.837033, -80.826309], \"mode\": \"lines\", \"opacity\": 0.5, \"type\": \"scattergeo\"}, {\"lat\": [33.213458, 33.215136, 33.198159, 33.184929, 33.136043, 33.110051, 33.109773, 33.089986, 33.072302, 33.065362, 33.050336, 33.006672, 33.003903, 33.006815, 33.015085, 33.007639, 33.001265, 33.015832, 33.032813, 33.03535, 33.021269, 33.006447, 32.991334, 32.979282, 32.972248, 32.952726, 32.94487, 32.934815, 32.925953, 32.926461, 32.931341, 32.934526, 32.933885, 32.926692, 32.906235, 32.888606, 32.872705, 32.850398, 32.839997, 32.835781, 32.825796, 32.813627, 32.805996, 32.77696, 32.766352, 32.756816, 32.755248, 32.757422, 32.752128, 32.745657, 32.734849, 32.727777, 32.695177, 32.684402, 32.664915, 32.639732, 32.639537, 32.626388, 32.616389, 32.611851, 32.608852, 32.610236, 32.603319, 32.590523, 32.578479, 32.559885, 32.546118, 32.553604, 32.554213, 32.555547, 32.531114, 32.529584, 32.500187, 32.546318, 32.647906, 32.727477, 32.858466, 32.818904, 32.830114, 32.84127, 32.845651, 32.927811, 33.021601, 32.999514, 32.899881, 32.90811, 32.823983, 32.87387, 33.123453, 33.148297, 33.213458], \"line\": {\"color\": \"black\", \"width\": 1}, \"lon\": [-79.446699, -79.438387, -79.413588, -79.404858, -79.268762, -79.290754, -79.291591, -79.329909, -79.337169, -79.335346, -79.339313, -79.359961, -79.403712, -79.416515, -79.423447, -79.461047, -79.483499, -79.488727, -79.506923, -79.522449, -79.55756, -79.580725, -79.58659, -79.60102, -79.606615, -79.617611, -79.617715, -79.612928, -79.606194, -79.585897, -79.581687, -79.574951, -79.572614, -79.569762, -79.576006, -79.631149, -79.655426, -79.695141, -79.699482, -79.702956, -79.719879, -79.716761, -79.726389, -79.811021, -79.818237, -79.84035, -79.848527, -79.866742, -79.872232, -79.873605, -79.868352, -79.870336, -79.888028, -79.884961, -79.915682, -79.968468, -79.975248, -79.986917, -79.99175, -79.999374, -80.010505, -80.037276, -80.077039, -80.121368, -80.148406, -80.167286, -80.171764, -80.188401, -80.193676, -80.20523, -80.246361, -80.249566, -80.352823, -80.416586, -80.389955, -80.446077, -80.40134, -80.148108, -80.158808, -80.16313, -80.17446, -80.079028, -80.149246, -80.055463, -80.011774, -79.948848, -79.928305, -79.855069, -79.643301, -79.518844, -79.446699], \"mode\": \"lines\", \"opacity\": 0.5, \"type\": \"scattergeo\"}, {\"lat\": [35.076608, 35.001566, 34.963249, 34.962894, 34.935782, 34.825281, 34.819697, 34.819646, 34.818592, 34.818568, 34.818217, 34.818239, 34.818174, 34.817481, 34.614765, 34.560116, 34.509752, 34.479957, 34.539916, 34.457776, 34.543146, 34.631781, 34.695847, 34.820746, 34.951143, 35.076608], \"line\": {\"color\": \"black\", \"width\": 1}, \"lon\": [-80.906417, -80.840461, -80.806784, -80.806461, -80.782042, -80.79675, -80.777712, -80.771792, -80.646601, -80.644656, -80.626077, -80.625993, -80.621222, -80.561674, -80.408373, -80.550552, -80.523945, -80.739966, -80.743345, -80.879227, -80.877491, -80.896406, -80.860274, -80.898215, -80.868652, -80.906417], \"mode\": \"lines\", \"opacity\": 0.5, \"type\": \"scattergeo\"}, {\"lat\": [35.109102, 35.103205, 35.100617, 35.096276, 35.086129, 35.07319, 35.061983, 35.044703, 35.092639, 35.107409, 35.076763, 35.076608, 34.951143, 34.820746, 34.821509, 34.831018, 34.83928, 35.029516, 35.046396, 35.164889, 35.163404, 35.16114, 35.160081, 35.159974, 35.152627, 35.14839, 35.146042, 35.109102], \"line\": {\"color\": \"black\", \"width\": 1}, \"lon\": [-81.032547, -81.036163, -81.046524, -81.052078, -81.057236, -81.058029, -81.057465, -81.041489, -80.95787, -80.93495, -80.906553, -80.906417, -80.868652, -80.898215, -81.478454, -81.461755, -81.457257, -81.488434, -81.409586, -81.366599, -81.32802, -81.269199, -81.241686, -81.239358, -81.090215, -81.043407, -81.042758, -81.032547], \"mode\": \"lines\", \"opacity\": 0.5, \"type\": \"scattergeo\"}, {\"lat\": [34.197587, 34.097381, 34.07795, 34.005253, 33.88008, 33.747053, 33.755583, 33.707131, 33.695315, 33.652937, 33.732161, 33.825522, 33.826967, 33.829799, 33.832154, 33.837454, 33.841496, 33.844531, 33.845608, 33.848407, 33.851915, 33.858683, 33.860657, 33.860547, 33.862645, 33.865324, 33.871845, 33.87723, 34.076552, 34.080227, 34.129963, 34.197587], \"line\": {\"color\": \"black\", \"width\": 1}, \"lon\": [-81.338961, -81.275845, -81.153617, -81.059715, -81.01233, -81.058521, -80.926321, -81.042854, -81.086803, -81.187271, -81.415308, -81.522124, -81.52286, -81.527148, -81.53359, -81.534438, -81.538291, -81.538679, -81.540866, -81.542263, -81.540865, -81.546946, -81.551552, -81.554531, -81.560733, -81.563671, -81.569149, -81.571485, -81.471972, -81.388564, -81.437172, -81.338961], \"mode\": \"lines\", \"opacity\": 0.5, \"type\": \"scattergeo\"}, {\"lat\": [34.219676, 34.225186, 34.230913, 34.288081, 34.300572, 34.253652, 34.241458, 34.235362, 33.969722, 33.705787, 33.710101, 33.703438, 33.703126, 33.69425, 33.694417, 33.695347, 33.696975, 33.699302, 33.700817, 33.701515, 33.702598, 33.703728, 33.705397, 33.706114, 33.705717, 33.703424, 33.702742, 33.703617, 33.703399, 33.704375, 33.706001, 33.707364, 33.710275, 33.710979, 33.710893, 33.708557, 33.708116, 33.708852, 33.711077, 33.714319, 33.71571, 33.717788, 33.719893, 33.721855, 33.718226, 33.716324, 33.715972, 33.717597, 33.718807, 33.723526, 33.728981, 33.732392, 33.734349, 33.735701, 33.737386, 33.739116, 33.741144, 33.743757, 33.747135, 33.750167, 33.75228, 33.754324, 33.757025, 33.75883, 33.763449, 33.76623, 33.771973, 33.775846, 33.778554, 33.779878, 33.785434, 33.789247, 33.790511, 33.794965, 33.799123, 33.937537, 34.097207, 34.175087, 34.219676], \"line\": {\"color\": \"black\", \"width\": 1}, \"lon\": [-79.544036, -79.54404, -79.54793, -79.480712, -79.380264, -79.128165, -79.135118, -79.126681, -79.339076, -79.190264, -79.199432, -79.195161, -79.208955, -79.235068, -79.23888, -79.246384, -79.249309, -79.249581, -79.247339, -79.242086, -79.240644, -79.240279, -79.241463, -79.243348, -79.244897, -79.24977, -79.258107, -79.261467, -79.267586, -79.267863, -79.265102, -79.264683, -79.265011, -79.266927, -79.26925, -79.271676, -79.273306, -79.275057, -79.274694, -79.274935, -79.271326, -79.269411, -79.269597, -79.271664, -79.278604, -79.280518, -79.282995, -79.286441, -79.28717, -79.288312, -79.291574, -79.29139, -79.289351, -79.286157, -79.286248, -79.290436, -79.293978, -79.294366, -79.29291, -79.292578, -79.293312, -79.294779, -79.298706, -79.300613, -79.30468, -79.306679, -79.30883, -79.313573, -79.316294, -79.317041, -79.319664, -79.323081, -79.320443, -79.323988, -79.324317, -79.482549, -79.515308, -79.568984, -79.544036], \"mode\": \"lines\", \"opacity\": 0.5, \"type\": \"scattergeo\"}, {\"lat\": [35.068177, 35.073973, 35.015696, 34.819475, 34.672017, 34.623212, 34.74244, 34.971836, 35.056021, 35.084585, 35.084492, 35.076885, 35.073674, 35.069043, 35.066817, 35.068177], \"line\": {\"color\": \"black\", \"width\": 1}, \"lon\": [-82.764464, -82.588598, -82.537866, -82.486746, -82.788664, -82.840253, -82.900144, -82.915785, -82.897499, -82.78113, -82.781062, -82.777407, -82.779116, -82.780546, -82.781973, -82.764464], \"mode\": \"lines\", \"opacity\": 0.5, \"type\": \"scattergeo\"}, {\"lat\": [33.213458, 33.148297, 33.123453, 32.87387, 32.823983, 32.90811, 32.899881, 32.999514, 33.021601, 33.119213, 33.130274, 33.257443, 33.29926, 33.443716, 33.496891, 33.500937, 33.329699, 33.304944, 33.213458], \"line\": {\"color\": \"black\", \"width\": 1}, \"lon\": [-79.446699, -79.518844, -79.643301, -79.855069, -79.928305, -79.948848, -80.011774, -80.055463, -80.149246, -80.279567, -80.299248, -80.361851, -80.253836, -80.222267, -80.101697, -79.971963, -79.756172, -79.677014, -79.446699], \"mode\": \"lines\", \"opacity\": 0.5, \"type\": \"scattergeo\"}, {\"hoverinfo\": \"text\", \"lat\": [32.99029455029952, 33.22033695531089, 33.666156316297425, 34.391434026119256, 32.77499517007042, 32.42995697026728, 33.43907882067382, 34.00757714985861, 34.33413436248769, 33.07762760050637, 33.772136561525976, 34.33980772980491, 34.17089010473481, 33.901066415197576, 34.28724382552811, 34.75536746151503, 34.01833693308043, 34.932709963783545, 33.9186728090913, 33.614824711991176, 34.22485618563562, 33.540554401242304, 34.51765728009019, 33.67321400593284, 34.691223112732466, 34.64019390823905, 35.04974682306474, 34.39102231920796, 34.89104867731327, 34.149788109164874, 33.91939495304242, 34.48125837853395, 34.60403045654097, 34.68732714367059, 32.86928582527485, 34.02010123083099, 33.43100348340247, 33.26573323785141, 32.38989842772185, 32.83230911973316, 34.687041407698466, 34.97439662892535, 33.89810184286564, 34.08007844319205, 34.887143912247595, 33.19826219496264], \"lon\": [-81.35409318076069, -81.06173428301263, -80.21732867194231, -81.11635659322407, -81.14125832000747, -81.03015755977401, -80.80110088456121, -81.72554770522893, -79.94766203100053, -80.40264621104588, -81.9637609055562, -80.59071958892434, -80.25727652526221, -82.30970462286486, -81.59608974797503, -83.06965243844782, -80.90355574542349, -81.99304774386157, -80.38154084718205, -79.72977640881734, -82.46049779491187, -81.63829900450047, -82.63864434573149, -80.77926724954543, -81.16065821958438, -80.15513657221686, -81.61753483635475, -79.38129693944546, -82.36787898993309, -82.12589582437793, -78.99835195755458, -82.00548575216864, -79.67503780987839, -81.61941198857592, -80.66791449189651, -79.70327261780876, -79.33229255547403, -81.43664690856407, -80.72696829521571, -79.95161252403413, -80.70532152043123, -81.18075193914669, -81.27523213870799, -79.36075476861357, -82.72608330449034, -79.95243934238543], \"marker\": {\"color\": \"rgba(255, 255, 255, 100)\", \"line\": {\"color\": \"rgba(0, 0, 0, 50)\", \"width\": 1}, \"size\": 6}, \"mode\": \"markers\", \"text\": [\"Allendale\", \"Bamberg\", \"Clarendon\", \"Fairfield\", \"Hampton\", \"Jasper\", \"Orangeburg\", \"Saluda\", \"Darlington\", \"Dorchester\", \"Edgefield\", \"Kershaw\", \"Lee\", \"McCormick\", \"Newberry\", \"Oconee\", \"Richland\", \"Spartanburg\", \"Sumter\", \"Williamsburg\", \"Abbeville\", \"Aiken\", \"Anderson\", \"Calhoun\", \"Chester\", \"Chesterfield\", \"Cherokee\", \"Dillon\", \"Greenville\", \"Greenwood\", \"Horry\", \"Laurens\", \"Marlboro\", \"Union\", \"Colleton\", \"Florence\", \"Georgetown\", \"Barnwell\", \"Beaufort\", \"Charleston\", \"Lancaster\", \"York\", \"Lexington\", \"Marion\", \"Pickens\", \"Berkeley\"], \"type\": \"scattergeo\"}],\n",
              "                        {\"geo\": {\"center\": {\"lat\": 33, \"lon\": -81}, \"coastlinewidth\": 0, \"countrycolor\": \"rgba(204, 204, 204, 0)\", \"countrywidth\": 0, \"landcolor\": \"rgba(243, 243, 243, 0)\", \"projection\": {\"type\": \"azimuthal equal area\"}, \"scope\": \"north america\", \"showland\": false}, \"height\": 700, \"template\": {\"data\": {\"bar\": [{\"error_x\": {\"color\": \"#2a3f5f\"}, \"error_y\": {\"color\": \"#2a3f5f\"}, \"marker\": {\"line\": {\"color\": \"#E5ECF6\", \"width\": 0.5}}, \"type\": \"bar\"}], \"barpolar\": [{\"marker\": {\"line\": {\"color\": \"#E5ECF6\", \"width\": 0.5}}, \"type\": \"barpolar\"}], \"carpet\": [{\"aaxis\": {\"endlinecolor\": \"#2a3f5f\", \"gridcolor\": \"white\", \"linecolor\": \"white\", \"minorgridcolor\": \"white\", \"startlinecolor\": \"#2a3f5f\"}, \"baxis\": {\"endlinecolor\": \"#2a3f5f\", \"gridcolor\": \"white\", \"linecolor\": \"white\", \"minorgridcolor\": \"white\", \"startlinecolor\": \"#2a3f5f\"}, \"type\": \"carpet\"}], \"choropleth\": [{\"colorbar\": {\"outlinewidth\": 0, \"ticks\": \"\"}, \"type\": \"choropleth\"}], \"contour\": [{\"colorbar\": {\"outlinewidth\": 0, \"ticks\": \"\"}, \"colorscale\": [[0.0, \"#0d0887\"], [0.1111111111111111, \"#46039f\"], [0.2222222222222222, \"#7201a8\"], [0.3333333333333333, \"#9c179e\"], [0.4444444444444444, \"#bd3786\"], [0.5555555555555556, \"#d8576b\"], [0.6666666666666666, \"#ed7953\"], [0.7777777777777778, \"#fb9f3a\"], [0.8888888888888888, \"#fdca26\"], [1.0, \"#f0f921\"]], \"type\": \"contour\"}], \"contourcarpet\": [{\"colorbar\": {\"outlinewidth\": 0, \"ticks\": \"\"}, \"type\": \"contourcarpet\"}], \"heatmap\": [{\"colorbar\": {\"outlinewidth\": 0, \"ticks\": \"\"}, \"colorscale\": [[0.0, \"#0d0887\"], [0.1111111111111111, \"#46039f\"], [0.2222222222222222, \"#7201a8\"], [0.3333333333333333, \"#9c179e\"], [0.4444444444444444, \"#bd3786\"], [0.5555555555555556, \"#d8576b\"], [0.6666666666666666, \"#ed7953\"], [0.7777777777777778, \"#fb9f3a\"], [0.8888888888888888, \"#fdca26\"], [1.0, \"#f0f921\"]], \"type\": \"heatmap\"}], \"heatmapgl\": [{\"colorbar\": {\"outlinewidth\": 0, \"ticks\": \"\"}, \"colorscale\": [[0.0, \"#0d0887\"], [0.1111111111111111, \"#46039f\"], [0.2222222222222222, \"#7201a8\"], [0.3333333333333333, \"#9c179e\"], [0.4444444444444444, \"#bd3786\"], [0.5555555555555556, \"#d8576b\"], [0.6666666666666666, \"#ed7953\"], [0.7777777777777778, \"#fb9f3a\"], [0.8888888888888888, \"#fdca26\"], [1.0, \"#f0f921\"]], \"type\": \"heatmapgl\"}], \"histogram\": [{\"marker\": {\"colorbar\": {\"outlinewidth\": 0, \"ticks\": \"\"}}, \"type\": \"histogram\"}], \"histogram2d\": [{\"colorbar\": {\"outlinewidth\": 0, \"ticks\": \"\"}, \"colorscale\": [[0.0, \"#0d0887\"], [0.1111111111111111, \"#46039f\"], [0.2222222222222222, \"#7201a8\"], [0.3333333333333333, \"#9c179e\"], [0.4444444444444444, \"#bd3786\"], [0.5555555555555556, \"#d8576b\"], [0.6666666666666666, \"#ed7953\"], [0.7777777777777778, \"#fb9f3a\"], [0.8888888888888888, \"#fdca26\"], [1.0, \"#f0f921\"]], \"type\": \"histogram2d\"}], \"histogram2dcontour\": [{\"colorbar\": {\"outlinewidth\": 0, \"ticks\": \"\"}, \"colorscale\": [[0.0, \"#0d0887\"], [0.1111111111111111, \"#46039f\"], [0.2222222222222222, \"#7201a8\"], [0.3333333333333333, \"#9c179e\"], [0.4444444444444444, \"#bd3786\"], [0.5555555555555556, \"#d8576b\"], [0.6666666666666666, \"#ed7953\"], [0.7777777777777778, \"#fb9f3a\"], [0.8888888888888888, \"#fdca26\"], [1.0, \"#f0f921\"]], \"type\": \"histogram2dcontour\"}], \"mesh3d\": [{\"colorbar\": {\"outlinewidth\": 0, \"ticks\": \"\"}, \"type\": \"mesh3d\"}], \"parcoords\": [{\"line\": {\"colorbar\": {\"outlinewidth\": 0, \"ticks\": \"\"}}, \"type\": \"parcoords\"}], \"pie\": [{\"automargin\": true, \"type\": \"pie\"}], \"scatter\": [{\"marker\": {\"colorbar\": {\"outlinewidth\": 0, \"ticks\": \"\"}}, \"type\": \"scatter\"}], \"scatter3d\": [{\"line\": {\"colorbar\": {\"outlinewidth\": 0, \"ticks\": \"\"}}, \"marker\": {\"colorbar\": {\"outlinewidth\": 0, \"ticks\": \"\"}}, \"type\": \"scatter3d\"}], \"scattercarpet\": [{\"marker\": {\"colorbar\": {\"outlinewidth\": 0, \"ticks\": \"\"}}, \"type\": \"scattercarpet\"}], \"scattergeo\": [{\"marker\": {\"colorbar\": {\"outlinewidth\": 0, \"ticks\": \"\"}}, \"type\": \"scattergeo\"}], \"scattergl\": [{\"marker\": {\"colorbar\": {\"outlinewidth\": 0, \"ticks\": \"\"}}, \"type\": \"scattergl\"}], \"scattermapbox\": [{\"marker\": {\"colorbar\": {\"outlinewidth\": 0, \"ticks\": \"\"}}, \"type\": \"scattermapbox\"}], \"scatterpolar\": [{\"marker\": {\"colorbar\": {\"outlinewidth\": 0, \"ticks\": \"\"}}, \"type\": \"scatterpolar\"}], \"scatterpolargl\": [{\"marker\": {\"colorbar\": {\"outlinewidth\": 0, \"ticks\": \"\"}}, \"type\": \"scatterpolargl\"}], \"scatterternary\": [{\"marker\": {\"colorbar\": {\"outlinewidth\": 0, \"ticks\": \"\"}}, \"type\": \"scatterternary\"}], \"surface\": [{\"colorbar\": {\"outlinewidth\": 0, \"ticks\": \"\"}, \"colorscale\": [[0.0, \"#0d0887\"], [0.1111111111111111, \"#46039f\"], [0.2222222222222222, \"#7201a8\"], [0.3333333333333333, \"#9c179e\"], [0.4444444444444444, \"#bd3786\"], [0.5555555555555556, \"#d8576b\"], [0.6666666666666666, \"#ed7953\"], [0.7777777777777778, \"#fb9f3a\"], [0.8888888888888888, \"#fdca26\"], [1.0, \"#f0f921\"]], \"type\": \"surface\"}], \"table\": [{\"cells\": {\"fill\": {\"color\": \"#EBF0F8\"}, \"line\": {\"color\": \"white\"}}, \"header\": {\"fill\": {\"color\": \"#C8D4E3\"}, \"line\": {\"color\": \"white\"}}, \"type\": \"table\"}]}, \"layout\": {\"annotationdefaults\": {\"arrowcolor\": \"#2a3f5f\", \"arrowhead\": 0, \"arrowwidth\": 1}, \"coloraxis\": {\"colorbar\": {\"outlinewidth\": 0, \"ticks\": \"\"}}, \"colorscale\": {\"diverging\": [[0, \"#8e0152\"], [0.1, \"#c51b7d\"], [0.2, \"#de77ae\"], [0.3, \"#f1b6da\"], [0.4, \"#fde0ef\"], [0.5, \"#f7f7f7\"], [0.6, \"#e6f5d0\"], [0.7, \"#b8e186\"], [0.8, \"#7fbc41\"], [0.9, \"#4d9221\"], [1, \"#276419\"]], \"sequential\": [[0.0, \"#0d0887\"], [0.1111111111111111, \"#46039f\"], [0.2222222222222222, \"#7201a8\"], [0.3333333333333333, \"#9c179e\"], [0.4444444444444444, \"#bd3786\"], [0.5555555555555556, \"#d8576b\"], [0.6666666666666666, \"#ed7953\"], [0.7777777777777778, \"#fb9f3a\"], [0.8888888888888888, \"#fdca26\"], [1.0, \"#f0f921\"]], \"sequentialminus\": [[0.0, \"#0d0887\"], [0.1111111111111111, \"#46039f\"], [0.2222222222222222, \"#7201a8\"], [0.3333333333333333, \"#9c179e\"], [0.4444444444444444, \"#bd3786\"], [0.5555555555555556, \"#d8576b\"], [0.6666666666666666, \"#ed7953\"], [0.7777777777777778, \"#fb9f3a\"], [0.8888888888888888, \"#fdca26\"], [1.0, \"#f0f921\"]]}, \"colorway\": [\"#636efa\", \"#EF553B\", \"#00cc96\", \"#ab63fa\", \"#FFA15A\", \"#19d3f3\", \"#FF6692\", \"#B6E880\", \"#FF97FF\", \"#FECB52\"], \"font\": {\"color\": \"#2a3f5f\"}, \"geo\": {\"bgcolor\": \"white\", \"lakecolor\": \"white\", \"landcolor\": \"#E5ECF6\", \"showlakes\": true, \"showland\": true, \"subunitcolor\": \"white\"}, \"hoverlabel\": {\"align\": \"left\"}, \"hovermode\": \"closest\", \"mapbox\": {\"style\": \"light\"}, \"paper_bgcolor\": \"white\", \"plot_bgcolor\": \"#E5ECF6\", \"polar\": {\"angularaxis\": {\"gridcolor\": \"white\", \"linecolor\": \"white\", \"ticks\": \"\"}, \"bgcolor\": \"#E5ECF6\", \"radialaxis\": {\"gridcolor\": \"white\", \"linecolor\": \"white\", \"ticks\": \"\"}}, \"scene\": {\"xaxis\": {\"backgroundcolor\": \"#E5ECF6\", \"gridcolor\": \"white\", \"gridwidth\": 2, \"linecolor\": \"white\", \"showbackground\": true, \"ticks\": \"\", \"zerolinecolor\": \"white\"}, \"yaxis\": {\"backgroundcolor\": \"#E5ECF6\", \"gridcolor\": \"white\", \"gridwidth\": 2, \"linecolor\": \"white\", \"showbackground\": true, \"ticks\": \"\", \"zerolinecolor\": \"white\"}, \"zaxis\": {\"backgroundcolor\": \"#E5ECF6\", \"gridcolor\": \"white\", \"gridwidth\": 2, \"linecolor\": \"white\", \"showbackground\": true, \"ticks\": \"\", \"zerolinecolor\": \"white\"}}, \"shapedefaults\": {\"line\": {\"color\": \"#2a3f5f\"}}, \"ternary\": {\"aaxis\": {\"gridcolor\": \"white\", \"linecolor\": \"white\", \"ticks\": \"\"}, \"baxis\": {\"gridcolor\": \"white\", \"linecolor\": \"white\", \"ticks\": \"\"}, \"bgcolor\": \"#E5ECF6\", \"caxis\": {\"gridcolor\": \"white\", \"linecolor\": \"white\", \"ticks\": \"\"}}, \"title\": {\"x\": 0.05}, \"xaxis\": {\"automargin\": true, \"gridcolor\": \"white\", \"linecolor\": \"white\", \"ticks\": \"\", \"title\": {\"standoff\": 15}, \"zerolinecolor\": \"white\", \"zerolinewidth\": 2}, \"yaxis\": {\"automargin\": true, \"gridcolor\": \"white\", \"linecolor\": \"white\", \"ticks\": \"\", \"title\": {\"standoff\": 15}, \"zerolinecolor\": \"white\", \"zerolinewidth\": 2}}}, \"title\": {\"text\": \"South Carolina Counties' Neighbor Network\"}, \"width\": 1600},\n",
              "                        {\"responsive\": true}\n",
              "                    ).then(function(){\n",
              "                            \n",
              "var gd = document.getElementById('035513e1-8fce-48cb-a3db-1996ff268832');\n",
              "var x = new MutationObserver(function (mutations, observer) {{\n",
              "        var display = window.getComputedStyle(gd).display;\n",
              "        if (!display || display === 'none') {{\n",
              "            console.log([gd, 'removed!']);\n",
              "            Plotly.purge(gd);\n",
              "            observer.disconnect();\n",
              "        }}\n",
              "}});\n",
              "\n",
              "// Listen for the removal of the full notebook cells\n",
              "var notebookContainer = gd.closest('#notebook-container');\n",
              "if (notebookContainer) {{\n",
              "    x.observe(notebookContainer, {childList: true});\n",
              "}}\n",
              "\n",
              "// Listen for the clearing of the current output cell\n",
              "var outputEl = gd.closest('.output');\n",
              "if (outputEl) {{\n",
              "    x.observe(outputEl, {childList: true});\n",
              "}}\n",
              "\n",
              "                        })\n",
              "                };\n",
              "                \n",
              "            </script>\n",
              "        </div>\n",
              "</body>\n",
              "</html>"
            ]
          },
          "metadata": {
            "tags": []
          }
        }
      ]
    },
    {
      "cell_type": "markdown",
      "metadata": {
        "id": "e9017jZVUrOF"
      },
      "source": [
        "## Draw some edges\n",
        "\n",
        "Change the ```sample_fraction``` to [0, 1] to show less edges."
      ]
    },
    {
      "cell_type": "code",
      "metadata": {
        "colab": {
          "base_uri": "https://localhost:8080/",
          "height": 1000
        },
        "id": "onwlDd_CUqg-",
        "outputId": "f883cb14-030d-4154-b8dc-e4f0df811d6b"
      },
      "source": [
        "import plotly.graph_objects as go\n",
        "import plotly.express as px\n",
        "import pandas as pd\n",
        "import plotly\n",
        "import plotly.figure_factory as ff\n",
        "import numpy as np\n",
        "\n",
        "\n",
        "\n",
        "fig = go.Figure(go.Scattergeo())\n",
        "\n",
        "sample_fraction = 0.5\n",
        "\n",
        "sampled_edge_df = edge_df.sample(frac=sample_fraction)\n",
        "\n",
        "# draw edges\n",
        "lons = []\n",
        "lats = []\n",
        "import numpy as np\n",
        "lons = np.empty(3 * len(sampled_edge_df))\n",
        "lons[::3] = sampled_edge_df['start_lon']\n",
        "lons[1::3] = sampled_edge_df['end_lon']\n",
        "lons[2::3] = None\n",
        "lats = np.empty(3 * len(sampled_edge_df))\n",
        "lats[::3] = sampled_edge_df['start_lat']\n",
        "lats[1::3] = sampled_edge_df['end_lat']\n",
        "lats[2::3] = None\n",
        "\n",
        "fig.add_trace(\n",
        "    go.Scattergeo(\n",
        "        locationmode = 'USA-states',\n",
        "        lon = lons,\n",
        "        lat = lats,\n",
        "        mode = 'lines',\n",
        "        line = dict(width = 2,color = 'red'),\n",
        "        opacity = 0.5\n",
        "    )\n",
        ")\n",
        "\n",
        "# draw county boundaries\n",
        "for idx, row in SC_gdf.iterrows():\n",
        "    polygon_lons = row['geometry'].exterior.coords.xy[0]\n",
        "    polygon_lats = row['geometry'].exterior.coords.xy[1]\n",
        "    fig.add_trace(\n",
        "        go.Scattergeo(\n",
        "            # locationmode = 'USA-states',\n",
        "            lon = np.array(polygon_lons),\n",
        "            lat = np.array(polygon_lats),\n",
        "            mode = 'lines',\n",
        "            line = dict(width = 1,color = 'black'),\n",
        "            opacity = 0.5\n",
        "        )\n",
        "    )\n",
        "\n",
        "# draw centroids\n",
        "fig.add_trace(go.Scattergeo(\n",
        "    \n",
        "    lon = SC_gdf['centroid'].x,\n",
        "    lat = SC_gdf['centroid'].y,\n",
        "    hoverinfo = 'text',\n",
        "    text = SC_gdf['NAME'],\n",
        "    mode = 'markers',\n",
        "    marker = dict(\n",
        "        size = 6,\n",
        "        color = 'rgba(255, 255, 255, 100)',\n",
        "        line = dict(\n",
        "            width = 1,\n",
        "            color = 'rgba(0, 0, 0, 50)'\n",
        "        )\n",
        "    )))\n",
        "\n",
        "# show figure\n",
        "fig.update_layout(\n",
        "    title_text = \"South Carolina Counties' Neighbor Network\",\n",
        "    geo = go.layout.Geo(        \n",
        "        scope=\"north america\",\n",
        "        projection_type = 'azimuthal equal area',\n",
        "        showland = False,\n",
        "        landcolor = 'rgba(243, 243, 243, 0)',\n",
        "        countrycolor = 'rgba(204, 204, 204, 0)',\n",
        "        countrywidth=0,\n",
        "        coastlinewidth=0,\n",
        "\n",
        "    ),\n",
        "    height=1000,\n",
        "    width=1600,\n",
        ")\n",
        "\n",
        "fig.update_geos(center_lon=-81,\n",
        "                center_lat=33,                \n",
        "                )\n",
        "\n",
        "fig.show()"
      ],
      "execution_count": 103,
      "outputs": [
        {
          "output_type": "display_data",
          "data": {
            "text/html": [
              "<html>\n",
              "<head><meta charset=\"utf-8\" /></head>\n",
              "<body>\n",
              "    <div>\n",
              "            <script src=\"https://cdnjs.cloudflare.com/ajax/libs/mathjax/2.7.5/MathJax.js?config=TeX-AMS-MML_SVG\"></script><script type=\"text/javascript\">if (window.MathJax) {MathJax.Hub.Config({SVG: {font: \"STIX-Web\"}});}</script>\n",
              "                <script type=\"text/javascript\">window.PlotlyConfig = {MathJaxConfig: 'local'};</script>\n",
              "        <script src=\"https://cdn.plot.ly/plotly-latest.min.js\"></script>    \n",
              "            <div id=\"8a064980-0090-48eb-94b5-20ba677a3a28\" class=\"plotly-graph-div\" style=\"height:1000px; width:1600px;\"></div>\n",
              "            <script type=\"text/javascript\">\n",
              "                \n",
              "                    window.PLOTLYENV=window.PLOTLYENV || {};\n",
              "                    \n",
              "                if (document.getElementById(\"8a064980-0090-48eb-94b5-20ba677a3a28\")) {\n",
              "                    Plotly.newPlot(\n",
              "                        '8a064980-0090-48eb-94b5-20ba677a3a28',\n",
              "                        [{\"type\": \"scattergeo\"}, {\"lat\": [33.89810184286564, 33.43907882067382, null, 34.28724382552811, 33.89810184286564, null, 34.00757714985861, 33.540554401242304, null, 33.614824711991176, 34.08007844319205, null, 34.887143912247595, 34.89104867731327, null, 34.48125837853395, 34.89104867731327, null, 33.43907882067382, 32.86928582527485, null, 33.19826219496264, 33.07762760050637, null, 33.9186728090913, 34.17089010473481, null, 33.43100348340247, 34.08007844319205, null, 34.691223112732466, 34.687041407698466, null, 32.38989842772185, 32.77499517007042, null, 33.89810184286564, 33.67321400593284, null, 34.68732714367059, 34.48125837853395, null, 33.43100348340247, 33.614824711991176, null, 34.932709963783545, 35.04974682306474, null, 33.772136561525976, 34.00757714985861, null, 33.89810184286564, 34.01833693308043, null, 33.666156316297425, 34.02010123083099, null, 34.60403045654097, 34.39102231920796, null, 33.26573323785141, 32.99029455029952, null, 34.02010123083099, 33.666156316297425, null, 33.9186728090913, 34.01833693308043, null, 33.614824711991176, 33.19826219496264, null, 34.33980772980491, 34.01833693308043, null, 34.687041407698466, 34.391434026119256, null, 34.33980772980491, 34.33413436248769, null, 34.17089010473481, 34.33980772980491, null, 35.04974682306474, 34.97439662892535, null, 34.64019390823905, 34.687041407698466, null, 34.75536746151503, 34.51765728009019, null, 32.86928582527485, 32.38989842772185, null, 32.86928582527485, 33.22033695531089, null, 34.33413436248769, 34.33980772980491, null, 34.691223112732466, 34.68732714367059, null, 34.687041407698466, 34.33980772980491, null, 34.17089010473481, 34.02010123083099, null, 34.887143912247595, 34.51765728009019, null, 33.07762760050637, 33.43907882067382, null, 34.48125837853395, 34.149788109164874, null, 34.01833693308043, 34.33980772980491, null, 33.67321400593284, 33.666156316297425, null, 34.39102231920796, 34.60403045654097, null, 34.89104867731327, 34.51765728009019, null, 33.91939495304242, 34.08007844319205, null, 34.89104867731327, 34.887143912247595, null, 33.9186728090913, 33.67321400593284, null, 34.17089010473481, 34.33413436248769, null, 33.91939495304242, 33.43100348340247, null, 33.540554401242304, 33.43907882067382, null, 34.01833693308043, 34.391434026119256, null, 33.540554401242304, 33.772136561525976, null, 34.691223112732466, 34.391434026119256, null, 34.02010123083099, 34.39102231920796, null, 33.43907882067382, 33.540554401242304, null, 34.51765728009019, 34.75536746151503, null, 33.26573323785141, 33.540554401242304, null, 33.43907882067382, 33.22033695531089, null, 32.99029455029952, 33.26573323785141, null, 33.22033695531089, 33.26573323785141, null, 33.67321400593284, 33.89810184286564, null, 34.33980772980491, 34.17089010473481, null, 34.68732714367059, 34.932709963783545, null, 34.149788109164874, 34.28724382552811, null, 33.540554401242304, 33.89810184286564, null, 34.39102231920796, 34.08007844319205, null, 34.887143912247595, 34.75536746151503, null, 34.51765728009019, 34.48125837853395, null, 34.28724382552811, 34.68732714367059, null, 34.68732714367059, 34.391434026119256, null, 34.01833693308043, 33.89810184286564, null, 33.89810184286564, 34.00757714985861, null, 32.86928582527485, 32.99029455029952, null, 34.17089010473481, 33.9186728090913, null, 33.22033695531089, 32.99029455029952, null, 34.51765728009019, 34.22485618563562, null, 34.89104867731327, 34.48125837853395, null, 32.83230911973316, 33.07762760050637, null, 33.26573323785141, 33.22033695531089, null, 33.26573323785141, 33.43907882067382, null, 34.68732714367059, 34.28724382552811, null, 33.666156316297425, 33.19826219496264, null, 32.77499517007042, 32.86928582527485, null, 34.60403045654097, 34.02010123083099, null, 34.391434026119256, 34.33980772980491, null, 33.67321400593284, 33.9186728090913, null, 34.00757714985861, 33.772136561525976, null, 34.149788109164874, 33.901066415197576, null, 34.68732714367059, 34.691223112732466, null, 34.149788109164874, 33.772136561525976, null, 34.08007844319205, 33.43100348340247, null, 34.22485618563562, 33.901066415197576, null, 32.42995697026728, 32.77499517007042, null, 34.28724382552811, 34.149788109164874, null, 34.02010123083099, 34.17089010473481, null, 34.22485618563562, 34.89104867731327, null, 34.39102231920796, 34.02010123083099, null, 33.67321400593284, 34.01833693308043, null, 33.43907882067382, 33.26573323785141, null, 33.43100348340247, 33.19826219496264, null, 32.99029455029952, 32.77499517007042, null, 33.9186728090913, 34.02010123083099, null, 34.28724382552811, 34.01833693308043, null, 34.33980772980491, 34.391434026119256, null, 33.07762760050637, 32.86928582527485, null, 33.772136561525976, 34.149788109164874, null, 34.687041407698466, 34.691223112732466, null, 33.666156316297425, 33.43907882067382, null, 33.43907882067382, 33.666156316297425, null, 32.77499517007042, 32.99029455029952, null, 34.932709963783545, 34.48125837853395, null, 32.77499517007042, 32.38989842772185, null, 33.772136561525976, 33.901066415197576, null], \"line\": {\"color\": \"red\", \"width\": 2}, \"locationmode\": \"USA-states\", \"lon\": [-81.27523213870799, -80.80110088456121, null, -81.59608974797503, -81.27523213870799, null, -81.72554770522893, -81.63829900450047, null, -79.72977640881734, -79.36075476861357, null, -82.72608330449034, -82.36787898993309, null, -82.00548575216864, -82.36787898993309, null, -80.80110088456121, -80.66791449189651, null, -79.95243934238543, -80.40264621104588, null, -80.38154084718205, -80.25727652526221, null, -79.33229255547403, -79.36075476861357, null, -81.16065821958438, -80.70532152043123, null, -80.72696829521571, -81.14125832000747, null, -81.27523213870799, -80.77926724954543, null, -81.61941198857592, -82.00548575216864, null, -79.33229255547403, -79.72977640881734, null, -81.99304774386157, -81.61753483635475, null, -81.9637609055562, -81.72554770522893, null, -81.27523213870799, -80.90355574542349, null, -80.21732867194231, -79.70327261780876, null, -79.67503780987839, -79.38129693944546, null, -81.43664690856407, -81.35409318076069, null, -79.70327261780876, -80.21732867194231, null, -80.38154084718205, -80.90355574542349, null, -79.72977640881734, -79.95243934238543, null, -80.59071958892434, -80.90355574542349, null, -80.70532152043123, -81.11635659322407, null, -80.59071958892434, -79.94766203100053, null, -80.25727652526221, -80.59071958892434, null, -81.61753483635475, -81.18075193914669, null, -80.15513657221686, -80.70532152043123, null, -83.06965243844782, -82.63864434573149, null, -80.66791449189651, -80.72696829521571, null, -80.66791449189651, -81.06173428301263, null, -79.94766203100053, -80.59071958892434, null, -81.16065821958438, -81.61941198857592, null, -80.70532152043123, -80.59071958892434, null, -80.25727652526221, -79.70327261780876, null, -82.72608330449034, -82.63864434573149, null, -80.40264621104588, -80.80110088456121, null, -82.00548575216864, -82.12589582437793, null, -80.90355574542349, -80.59071958892434, null, -80.77926724954543, -80.21732867194231, null, -79.38129693944546, -79.67503780987839, null, -82.36787898993309, -82.63864434573149, null, -78.99835195755458, -79.36075476861357, null, -82.36787898993309, -82.72608330449034, null, -80.38154084718205, -80.77926724954543, null, -80.25727652526221, -79.94766203100053, null, -78.99835195755458, -79.33229255547403, null, -81.63829900450047, -80.80110088456121, null, -80.90355574542349, -81.11635659322407, null, -81.63829900450047, -81.9637609055562, null, -81.16065821958438, -81.11635659322407, null, -79.70327261780876, -79.38129693944546, null, -80.80110088456121, -81.63829900450047, null, -82.63864434573149, -83.06965243844782, null, -81.43664690856407, -81.63829900450047, null, -80.80110088456121, -81.06173428301263, null, -81.35409318076069, -81.43664690856407, null, -81.06173428301263, -81.43664690856407, null, -80.77926724954543, -81.27523213870799, null, -80.59071958892434, -80.25727652526221, null, -81.61941198857592, -81.99304774386157, null, -82.12589582437793, -81.59608974797503, null, -81.63829900450047, -81.27523213870799, null, -79.38129693944546, -79.36075476861357, null, -82.72608330449034, -83.06965243844782, null, -82.63864434573149, -82.00548575216864, null, -81.59608974797503, -81.61941198857592, null, -81.61941198857592, -81.11635659322407, null, -80.90355574542349, -81.27523213870799, null, -81.27523213870799, -81.72554770522893, null, -80.66791449189651, -81.35409318076069, null, -80.25727652526221, -80.38154084718205, null, -81.06173428301263, -81.35409318076069, null, -82.63864434573149, -82.46049779491187, null, -82.36787898993309, -82.00548575216864, null, -79.95161252403413, -80.40264621104588, null, -81.43664690856407, -81.06173428301263, null, -81.43664690856407, -80.80110088456121, null, -81.61941198857592, -81.59608974797503, null, -80.21732867194231, -79.95243934238543, null, -81.14125832000747, -80.66791449189651, null, -79.67503780987839, -79.70327261780876, null, -81.11635659322407, -80.59071958892434, null, -80.77926724954543, -80.38154084718205, null, -81.72554770522893, -81.9637609055562, null, -82.12589582437793, -82.30970462286486, null, -81.61941198857592, -81.16065821958438, null, -82.12589582437793, -81.9637609055562, null, -79.36075476861357, -79.33229255547403, null, -82.46049779491187, -82.30970462286486, null, -81.03015755977401, -81.14125832000747, null, -81.59608974797503, -82.12589582437793, null, -79.70327261780876, -80.25727652526221, null, -82.46049779491187, -82.36787898993309, null, -79.38129693944546, -79.70327261780876, null, -80.77926724954543, -80.90355574542349, null, -80.80110088456121, -81.43664690856407, null, -79.33229255547403, -79.95243934238543, null, -81.35409318076069, -81.14125832000747, null, -80.38154084718205, -79.70327261780876, null, -81.59608974797503, -80.90355574542349, null, -80.59071958892434, -81.11635659322407, null, -80.40264621104588, -80.66791449189651, null, -81.9637609055562, -82.12589582437793, null, -80.70532152043123, -81.16065821958438, null, -80.21732867194231, -80.80110088456121, null, -80.80110088456121, -80.21732867194231, null, -81.14125832000747, -81.35409318076069, null, -81.99304774386157, -82.00548575216864, null, -81.14125832000747, -80.72696829521571, null, -81.9637609055562, -82.30970462286486, null], \"mode\": \"lines\", \"opacity\": 0.5, \"type\": \"scattergeo\"}, {\"lat\": [33.02663, 32.940244, 32.839139, 32.744964, 32.747027, 32.810514, 32.963816, 32.978998, 32.998572, 33.010224, 33.024506, 33.045654, 33.092534, 33.158279, 33.108061, 33.118668, 33.02663], \"line\": {\"color\": \"black\", \"width\": 1}, \"lon\": [-81.082291, -81.236956, -81.261662, -81.405134, -81.404949, -81.423772, -81.49983, -81.494736, -81.491495, -81.496637, -81.51169, -81.541831, -81.615756, -81.541881, -81.364857, -81.193099, -81.082291], \"mode\": \"lines\", \"opacity\": 0.5, \"type\": \"scattergeo\"}, {\"lat\": [33.439493, 33.308047, 33.176944, 33.02663, 33.118668, 33.160697, 33.44, 33.439044, 33.439493], \"line\": {\"color\": \"black\", \"width\": 1}, \"lon\": [-81.22011, -80.948756, -80.797912, -81.082291, -81.193099, -81.227804, -81.222673, -81.22155, -81.22011], \"mode\": \"lines\", \"opacity\": 0.5, \"type\": \"scattergeo\"}, {\"lat\": [33.643911, 33.714265, 33.71555, 33.767821, 33.803708, 33.946527, 33.885717, 33.885245, 33.767906, 33.72159, 33.496891, 33.443716, 33.430408, 33.558481, 33.643911], \"line\": {\"color\": \"black\", \"width\": 1}, \"lon\": [-80.534085, -80.478709, -80.392003, -80.397131, -80.255904, -79.974601, -79.945584, -79.87562, -79.995638, -79.974382, -80.101697, -80.222267, -80.354539, -80.496273, -80.534085], \"mode\": \"lines\", \"opacity\": 0.5, \"type\": \"scattergeo\"}, {\"lat\": [34.26876, 34.213872, 34.174552, 34.239458, 34.494379, 34.503224, 34.524073, 34.529482, 34.55599, 34.566588, 34.572029, 34.545341, 34.543146, 34.457776, 34.377111, 34.26876], \"line\": {\"color\": \"black\", \"width\": 1}, \"lon\": [-80.825921, -81.095863, -81.178293, -81.316911, -81.423241, -81.421139, -81.424907, -81.427545, -81.424304, -81.419829, -81.422706, -80.949774, -80.877491, -80.879227, -80.769926, -80.825921], \"mode\": \"lines\", \"opacity\": 0.5, \"type\": \"scattergeo\"}, {\"lat\": [32.704321, 32.700038, 32.660935, 32.621561, 32.753058, 32.544831, 32.559722, 32.561228, 32.569294, 32.595385, 32.595436, 32.61841, 32.629392, 32.634704, 32.63744, 32.744964, 32.839139, 32.940244, 33.02663, 32.832813, 32.704321], \"line\": {\"color\": \"black\", \"width\": 1}, \"lon\": [-80.826309, -80.837033, -80.869705, -80.902448, -81.014625, -81.286776, -81.318255, -81.328753, -81.348155, -81.389258, -81.389338, -81.411906, -81.41866, -81.418431, -81.414761, -81.405134, -81.261662, -81.236956, -81.082291, -80.900196, -80.826309], \"mode\": \"lines\", \"opacity\": 0.5, \"type\": \"scattergeo\"}, {\"lat\": [32.079792, 32.051943, 32.043764, 32.0346, 32.072225, 32.084508, 32.087935, 32.113205, 32.117605, 32.161803, 32.22713, 32.276297, 32.285796, 32.305395, 32.341693, 32.349393, 32.368391, 32.467286, 32.539457, 32.544831, 32.753058, 32.621561, 32.660935, 32.411836, 32.300369, 32.306196, 32.241923, 32.079792], \"line\": {\"color\": \"black\", \"width\": 1}, \"lon\": [-80.878111, -80.905378, -80.892344, -80.885517, -81.004115, -81.042833, -81.06185, -81.113334, -81.117234, -81.122034, -81.125457, -81.128034, -81.120333, -81.122333, -81.134332, -81.140932, -81.168032, -81.199029, -81.275415, -81.286776, -81.014625, -80.902448, -80.869705, -80.829489, -80.934935, -81.006432, -81.016341, -80.878111], \"mode\": \"lines\", \"opacity\": 0.5, \"type\": \"scattergeo\"}, {\"lat\": [33.439493, 33.439044, 33.44, 33.490417, 33.49051, 33.652937, 33.695315, 33.707131, 33.608798, 33.619285, 33.604081, 33.470982, 33.565414, 33.558481, 33.430408, 33.443716, 33.29926, 33.257443, 33.280034, 33.334496, 33.18084, 33.181077, 33.17984, 33.178648, 33.17693, 33.176944, 33.308047, 33.439493], \"line\": {\"color\": \"black\", \"width\": 1}, \"lon\": [-81.22011, -81.22155, -81.222673, -81.372931, -81.373494, -81.187271, -81.086803, -81.042854, -80.93979, -80.879528, -80.807631, -80.65902, -80.552272, -80.496273, -80.354539, -80.222267, -80.253836, -80.361851, -80.484578, -80.50279, -80.790296, -80.791667, -80.793002, -80.793711, -80.795864, -80.797912, -80.948756, -81.22011], \"mode\": \"lines\", \"opacity\": 0.5, \"type\": \"scattergeo\"}, {\"lat\": [33.87723, 33.81451, 33.866501, 33.975415, 33.961646, 34.135357, 34.17933, 34.187613, 34.081744, 34.076552, 33.87723], \"line\": {\"color\": \"black\", \"width\": 1}, \"lon\": [-81.571485, -81.651759, -81.836803, -81.894595, -82.008298, -81.870084, -81.86064, -81.731614, -81.538899, -81.471972, -81.571485], \"mode\": \"lines\", \"opacity\": 0.5, \"type\": \"scattergeo\"}, {\"lat\": [34.086013, 34.128666, 34.197018, 34.366203, 34.364139, 34.364572, 34.365305, 34.366207, 34.492631, 34.491218, 34.531925, 34.485416, 34.436797, 34.40049, 34.30519, 34.204112, 34.129007, 34.086013], \"line\": {\"color\": \"black\", \"width\": 1}, \"lon\": [-80.072808, -80.131441, -80.112727, -80.177225, -80.288692, -80.286936, -80.28688, -80.288596, -80.045439, -79.884542, -79.829981, -79.721794, -79.750566, -79.684559, -79.657764, -79.883065, -79.999789, -80.072808], \"mode\": \"lines\", \"opacity\": 0.5, \"type\": \"scattergeo\"}, {\"lat\": [33.257443, 33.130274, 33.119213, 33.021601, 32.927811, 32.845651, 32.84127, 32.830114, 32.818904, 32.858466, 33.043909, 33.06608, 33.15647, 33.18084, 33.334496, 33.280034, 33.257443], \"line\": {\"color\": \"black\", \"width\": 1}, \"lon\": [-80.361851, -80.299248, -80.279567, -80.149246, -80.079028, -80.17446, -80.16313, -80.158808, -80.148108, -80.40134, -80.390533, -80.6221, -80.709736, -80.790296, -80.50279, -80.484578, -80.361851], \"mode\": \"lines\", \"opacity\": 0.5, \"type\": \"scattergeo\"}, {\"lat\": [33.81451, 33.532156, 33.530313, 33.544934, 33.56383, 33.575382, 33.586358, 33.589723, 33.633869, 33.690316, 33.765711, 33.82988, 33.92929, 33.95321, 33.961646, 33.975415, 33.866501, 33.81451], \"line\": {\"color\": \"black\", \"width\": 1}, \"lon\": [-81.651759, -82.012534, -82.014293, -82.028238, -82.046335, -82.069039, -82.098816, -82.11663, -82.095527, -82.166027, -82.172379, -82.113728, -82.1557, -82.046974, -82.008298, -81.894595, -81.836803, -81.651759], \"mode\": \"lines\", \"opacity\": 0.5, \"type\": \"scattergeo\"}, {\"lat\": [34.168696, 34.101549, 34.101671, 34.109176, 34.099605, 34.097666, 34.095633, 34.09399, 34.088774, 34.085743, 34.083732, 34.08461, 34.081603, 34.08128, 34.068972, 34.182389, 34.26876, 34.377111, 34.457776, 34.539916, 34.479957, 34.509752, 34.560116, 34.614765, 34.501349, 34.366207, 34.365305, 34.364572, 34.364139, 34.294301, 34.168696], \"line\": {\"color\": \"black\", \"width\": 1}, \"lon\": [-80.479857, -80.578081, -80.604403, -80.618542, -80.616186, -80.635594, -80.639534, -80.646696, -80.658325, -80.658978, -80.67297, -80.676421, -80.683662, -80.692965, -80.719318, -80.869733, -80.825921, -80.769926, -80.879227, -80.743345, -80.739966, -80.523945, -80.550552, -80.408373, -80.328553, -80.288596, -80.28688, -80.286936, -80.288692, -80.421654, -80.479857], \"mode\": \"lines\", \"opacity\": 0.5, \"type\": \"scattergeo\"}, {\"lat\": [34.0351, 34.036722, 34.036706, 34.036829, 34.080356, 34.112622, 34.168696, 34.294301, 34.364139, 34.366203, 34.197018, 34.128666, 34.086013, 34.047877, 33.952002, 34.0351], \"line\": {\"color\": \"black\", \"width\": 1}, \"lon\": [-80.26906, -80.278461, -80.278827, -80.279339, -80.321721, -80.481318, -80.479857, -80.421654, -80.288692, -80.177225, -80.112727, -80.131441, -80.072808, -80.000594, -80.180371, -80.26906], \"mode\": \"lines\", \"opacity\": 0.5, \"type\": \"scattergeo\"}, {\"lat\": [33.95321, 33.92929, 33.82988, 33.765711, 33.690316, 33.633869, 33.589723, 33.591274, 33.589925, 33.591044, 33.615945, 33.630582, 33.686299, 33.752591, 33.801864, 33.820033, 33.865477, 33.86632, 33.863754, 33.865844, 33.955744, 33.95581, 34.01239, 34.071925, 34.06412, 33.971584, 34.018781, 33.978597, 33.983396, 33.95321], \"line\": {\"color\": \"black\", \"width\": 1}, \"lon\": [-82.046974, -82.1557, -82.113728, -82.172379, -82.166027, -82.095527, -82.11663, -82.124841, -82.12908, -82.135046, -82.179854, -82.196583, -82.218649, -82.247472, -82.301457, -82.32448, -82.403881, -82.408354, -82.422803, -82.429164, -82.564483, -82.564582, -82.597079, -82.530567, -82.326947, -82.306243, -82.245055, -82.200286, -82.04513, -82.046974], \"mode\": \"lines\", \"opacity\": 0.5, \"type\": \"scattergeo\"}, {\"lat\": [34.197587, 34.129963, 34.080227, 34.076552, 34.081744, 34.187613, 34.17933, 34.135357, 34.203148, 34.29988, 34.365089, 34.533652, 34.445027, 34.494379, 34.239458, 34.20503, 34.197587], \"line\": {\"color\": \"black\", \"width\": 1}, \"lon\": [-81.338961, -81.437172, -81.388564, -81.471972, -81.538899, -81.731614, -81.86064, -81.870084, -81.945019, -81.895713, -81.782627, -81.643552, -81.54043, -81.423241, -81.316911, -81.345328, -81.338961], \"mode\": \"lines\", \"opacity\": 0.5, \"type\": \"scattergeo\"}, {\"lat\": [35.056021, 34.971836, 34.74244, 34.623212, 34.479198, 34.479072, 34.474549, 34.474376, 34.483495, 34.493062, 34.504349, 34.515939, 34.534053, 34.592398, 34.598798, 34.600424, 34.624307, 34.624507, 34.653396, 34.687681, 34.687924, 34.701703, 34.713243, 34.714456, 34.715993, 34.716111, 34.741266, 34.788691, 34.821328, 34.832748, 34.877749, 34.924756, 35.000771, 35.026974, 35.056021], \"line\": {\"color\": \"black\", \"width\": 1}, \"lon\": [-82.897499, -82.915785, -82.900144, -82.840253, -82.992215, -82.992671, -82.995284, -83.006848, -83.034712, -83.052161, -83.072746, -83.087189, -83.106874, -83.170278, -83.170978, -83.167523, -83.240676, -83.240669, -83.291683, -83.337867, -83.338194, -83.351293, -83.350976, -83.351392, -83.352485, -83.352422, -83.339129, -83.32406, -83.283151, -83.267293, -83.242962, -83.143261, -83.108535, -83.008447, -82.897499], \"mode\": \"lines\", \"opacity\": 0.5, \"type\": \"scattergeo\"}, {\"lat\": [33.761742, 33.813735, 33.88008, 34.005253, 34.07795, 34.097381, 34.197587, 34.20503, 34.239458, 34.174552, 34.213872, 34.26876, 34.182389, 34.068972, 34.08128, 34.081603, 34.08461, 34.083732, 34.085743, 34.088774, 34.09399, 34.095633, 34.097666, 34.099605, 33.85268, 33.743237, 33.761742], \"line\": {\"color\": \"black\", \"width\": 1}, \"lon\": [-80.747337, -80.91731, -81.01233, -81.059715, -81.153617, -81.275845, -81.338961, -81.345328, -81.316911, -81.178293, -81.095863, -80.825921, -80.869733, -80.719318, -80.692965, -80.683662, -80.676421, -80.67297, -80.658978, -80.658325, -80.646696, -80.639534, -80.635594, -80.616186, -80.633545, -80.620107, -80.747337], \"mode\": \"lines\", \"opacity\": 0.5, \"type\": \"scattergeo\"}, {\"lat\": [34.668587, 34.785554, 34.850171, 35.196044, 35.194951, 35.194355, 35.19379, 35.193699, 35.187215, 35.184113, 34.932672, 34.912577, 34.837125, 34.594549, 34.668587], \"line\": {\"color\": \"black\", \"width\": 1}, \"lon\": [-82.012297, -82.146792, -82.225698, -82.216217, -82.195483, -82.185513, -82.176874, -82.167676, -81.969325, -81.874433, -81.754911, -81.711694, -81.78339, -81.854002, -82.012297], \"mode\": \"lines\", \"opacity\": 0.5, \"type\": \"scattergeo\"}, {\"lat\": [34.0351, 33.952002, 34.047877, 33.988017, 33.946527, 33.803708, 33.767821, 33.71555, 33.714265, 33.643911, 33.743237, 33.85268, 34.099605, 34.109176, 34.101671, 34.101549, 34.168696, 34.112622, 34.080356, 34.036829, 34.036706, 34.036722, 34.0351], \"line\": {\"color\": \"black\", \"width\": 1}, \"lon\": [-80.26906, -80.180371, -80.000594, -79.893517, -79.974601, -80.255904, -80.397131, -80.392003, -80.478709, -80.534085, -80.620107, -80.633545, -80.616186, -80.618542, -80.604403, -80.578081, -80.479857, -80.481318, -80.321721, -80.279339, -80.278827, -80.278461, -80.26906], \"mode\": \"lines\", \"opacity\": 0.5, \"type\": \"scattergeo\"}, {\"lat\": [33.799123, 33.794965, 33.790511, 33.789247, 33.785434, 33.779878, 33.68889, 33.572702, 33.496896, 33.304944, 33.329699, 33.500937, 33.496891, 33.72159, 33.767906, 33.885245, 33.835562, 33.775357, 33.799123], \"line\": {\"color\": \"black\", \"width\": 1}, \"lon\": [-79.324317, -79.323988, -79.320443, -79.323081, -79.319664, -79.317041, -79.409332, -79.435733, -79.53808, -79.677014, -79.756172, -79.971963, -80.101697, -79.974382, -79.995638, -79.87562, -79.79837, -79.496486, -79.324317], \"mode\": \"lines\", \"opacity\": 0.5, \"type\": \"scattergeo\"}, {\"lat\": [34.06412, 34.071925, 34.01239, 34.088341, 34.088914, 34.099704, 34.100346, 34.103118, 34.103544, 34.12016, 34.131657, 34.141007, 34.150504, 34.178363, 34.208709, 34.484002, 34.409676, 34.34263, 34.219619, 34.10836, 34.06412], \"line\": {\"color\": \"black\", \"width\": 1}, \"lon\": [-82.326947, -82.530567, -82.597079, -82.640701, -82.641252, -82.652175, -82.654019, -82.658561, -82.659077, -82.668113, -82.67732, -82.70414, -82.717507, -82.731881, -82.741491, -82.313996, -82.246337, -82.334234, -82.247747, -82.267184, -82.326947], \"mode\": \"lines\", \"opacity\": 0.5, \"type\": \"scattergeo\"}, {\"lat\": [33.825522, 33.732161, 33.652937, 33.49051, 33.490417, 33.489652, 33.382239, 33.198148, 33.18012, 33.247408, 33.247544, 33.331242, 33.408811, 33.468632, 33.480636, 33.522835, 33.523335, 33.530313, 33.532156, 33.81451, 33.87723, 33.871845, 33.865324, 33.862645, 33.860547, 33.860657, 33.858683, 33.851915, 33.848407, 33.845608, 33.844531, 33.841496, 33.837454, 33.832154, 33.829799, 33.826967, 33.825522], \"line\": {\"color\": \"black\", \"width\": 1}, \"lon\": [-81.522124, -81.415308, -81.187271, -81.373494, -81.372931, -81.374827, -81.516419, -81.757035, -81.772251, -81.851975, -81.852136, -81.902737, -81.912572, -81.957934, -81.967037, -82.007138, -82.007638, -82.014293, -82.012534, -81.651759, -81.571485, -81.569149, -81.563671, -81.560733, -81.554531, -81.551552, -81.546946, -81.540865, -81.542263, -81.540866, -81.538679, -81.538291, -81.534438, -81.53359, -81.527148, -81.52286, -81.522124], \"mode\": \"lines\", \"opacity\": 0.5, \"type\": \"scattergeo\"}, {\"lat\": [34.819475, 34.625114, 34.557089, 34.484002, 34.208709, 34.210063, 34.224913, 34.227343, 34.230196, 34.276067, 34.293509, 34.423844, 34.468891, 34.471508, 34.479003, 34.485902, 34.486202, 34.482702, 34.479198, 34.623212, 34.672017, 34.819475], \"line\": {\"color\": \"black\", \"width\": 1}, \"lon\": [-82.486746, -82.453789, -82.419665, -82.313996, -82.741491, -82.74192, -82.744415, -82.743461, -82.74198, -82.755028, -82.766078, -82.848651, -82.874864, -82.873831, -82.882864, -82.902665, -82.939067, -82.979568, -82.992215, -82.840253, -82.788664, -82.486746], \"mode\": \"lines\", \"opacity\": 0.5, \"type\": \"scattergeo\"}, {\"lat\": [33.88008, 33.813735, 33.761742, 33.743237, 33.643911, 33.558481, 33.565414, 33.470982, 33.604081, 33.619285, 33.608798, 33.707131, 33.755583, 33.747053, 33.88008], \"line\": {\"color\": \"black\", \"width\": 1}, \"lon\": [-81.01233, -80.91731, -80.747337, -80.620107, -80.534085, -80.496273, -80.552272, -80.65902, -80.807631, -80.879528, -80.93979, -81.042854, -80.926321, -81.058521, -81.01233], \"mode\": \"lines\", \"opacity\": 0.5, \"type\": \"scattergeo\"}, {\"lat\": [34.821509, 34.820746, 34.695847, 34.631781, 34.543146, 34.545341, 34.572029, 34.821509], \"line\": {\"color\": \"black\", \"width\": 1}, \"lon\": [-81.478454, -80.898215, -80.860274, -80.896406, -80.877491, -80.949774, -81.422706, -81.478454], \"mode\": \"lines\", \"opacity\": 0.5, \"type\": \"scattergeo\"}, {\"lat\": [34.366207, 34.501349, 34.614765, 34.817481, 34.817481, 34.816732, 34.816396, 34.816332, 34.815968, 34.81581, 34.815581, 34.815622, 34.815508, 34.815128, 34.813813, 34.810147, 34.810147, 34.809716, 34.809736, 34.809097, 34.808726, 34.806555, 34.693841, 34.614868, 34.531925, 34.491218, 34.492631, 34.366207], \"line\": {\"color\": \"black\", \"width\": 1}, \"lon\": [-80.288596, -80.328553, -80.408373, -80.561674, -80.561657, -80.485683, -80.45166, -80.448766, -80.434843, -80.425902, -80.419586, -80.418433, -80.417014, -80.399871, -80.320413, -80.098994, -80.098022, -80.077223, -80.072912, -80.042764, -80.027464, -79.927618, -79.871959, -79.778249, -79.829981, -79.884542, -80.045439, -80.288596], \"mode\": \"lines\", \"opacity\": 0.5, \"type\": \"scattergeo\"}, {\"lat\": [34.83928, 34.866221, 34.912577, 34.932672, 35.184113, 35.183492, 35.180132, 35.169882, 35.169951, 35.168657, 35.168293, 35.164893, 35.164889, 35.046396, 35.029516, 34.83928], \"line\": {\"color\": \"black\", \"width\": 1}, \"lon\": [-81.457257, -81.481613, -81.711694, -81.754911, -81.874433, -81.857832, -81.768073, -81.494265, -81.493401, -81.461408, -81.452398, -81.366691, -81.366599, -81.409586, -81.488434, -81.457257], \"mode\": \"lines\", \"opacity\": 0.5, \"type\": \"scattergeo\"}, {\"lat\": [34.230913, 34.297994, 34.621036, 34.545358, 34.521869, 34.516282, 34.514634, 34.406699, 34.40104, 34.399751, 34.366753, 34.359817, 34.29924, 34.253652, 34.300572, 34.288081, 34.230913], \"line\": {\"color\": \"black\", \"width\": 1}, \"lon\": [-79.54793, -79.633413, -79.450034, -79.358317, -79.331328, -79.324854, -79.323249, -79.198982, -79.192041, -79.190739, -79.151485, -79.143242, -79.071169, -79.128165, -79.380264, -79.480712, -79.54793], \"mode\": \"lines\", \"opacity\": 0.5, \"type\": \"scattergeo\"}, {\"lat\": [34.686303, 34.535962, 34.484002, 34.557089, 34.625114, 34.819475, 35.015696, 35.073973, 35.068177, 35.11979, 35.121822, 35.142268, 35.141963, 35.144216, 35.159137, 35.158699, 35.162643, 35.163029, 35.175486, 35.210542, 35.206595, 35.198605, 35.198636, 35.196784, 35.196764, 35.196044, 34.850171, 34.785554, 34.686303], \"line\": {\"color\": \"black\", \"width\": 1}, \"lon\": [-82.193006, -82.236, -82.313996, -82.419665, -82.453789, -82.486746, -82.537866, -82.588598, -82.764464, -82.686738, -82.686496, -82.582264, -82.580127, -82.574406, -82.536527, -82.535804, -82.517284, -82.51691, -82.476136, -82.384029, -82.35243, -82.288453, -82.257515, -82.230915, -82.230517, -82.216217, -82.225698, -82.146792, -82.193006], \"mode\": \"lines\", \"opacity\": 0.5, \"type\": \"scattergeo\"}, {\"lat\": [34.135357, 33.961646, 33.95321, 33.983396, 33.978597, 34.018781, 33.971584, 34.06412, 34.10836, 34.219619, 34.34263, 34.409676, 34.330746, 34.203148, 34.135357], \"line\": {\"color\": \"black\", \"width\": 1}, \"lon\": [-81.870084, -82.008298, -82.046974, -82.04513, -82.200286, -82.245055, -82.306243, -82.326947, -82.267184, -82.247747, -82.334234, -82.246337, -82.169297, -81.945019, -81.870084], \"mode\": \"lines\", \"opacity\": 0.5, \"type\": \"scattergeo\"}, {\"lat\": [33.572114, 33.571807, 33.705787, 33.969722, 34.235362, 34.241458, 34.253652, 34.29924, 33.996732, 33.994688, 33.944035, 33.851112, 33.847831, 33.844282, 33.817587, 33.800138, 33.768511, 33.743472, 33.705654, 33.639826, 33.572114], \"line\": {\"color\": \"black\", \"width\": 1}, \"lon\": [-79.002109, -79.100653, -79.190264, -79.339076, -79.126681, -79.135118, -79.128165, -79.071169, -78.712206, -78.710141, -78.6505, -78.541087, -78.553944, -78.584841, -78.67226, -78.714116, -78.772737, -78.812931, -78.862931, -78.938076, -79.002109], \"mode\": \"lines\", \"opacity\": 0.5, \"type\": \"scattergeo\"}, {\"lat\": [34.484002, 34.535962, 34.686303, 34.785554, 34.668587, 34.594549, 34.533652, 34.365089, 34.29988, 34.203148, 34.330746, 34.409676, 34.484002], \"line\": {\"color\": \"black\", \"width\": 1}, \"lon\": [-82.313996, -82.236, -82.193006, -82.146792, -82.012297, -81.854002, -81.643552, -81.782627, -81.895713, -81.945019, -82.169297, -82.246337, -82.313996], \"mode\": \"lines\", \"opacity\": 0.5, \"type\": \"scattergeo\"}, {\"lat\": [34.805651, 34.804973, 34.804937, 34.804897, 34.771012, 34.768835, 34.711996, 34.706363, 34.678327, 34.677321, 34.653819, 34.64464, 34.6372, 34.635323, 34.630432, 34.630126, 34.629027, 34.621036, 34.297994, 34.301299, 34.299762, 34.30119, 34.30519, 34.40049, 34.436797, 34.485416, 34.531925, 34.614868, 34.693841, 34.806555, 34.805931, 34.805954, 34.805686, 34.805651], \"line\": {\"color\": \"black\", \"width\": 1}, \"lon\": [-79.744116, -79.692948, -79.690201, -79.688088, -79.634216, -79.631577, -79.561691, -79.554454, -79.520269, -79.519043, -79.490201, -79.479305, -79.471599, -79.468717, -79.461754, -79.461318, -79.459766, -79.450034, -79.633413, -79.635373, -79.641751, -79.644463, -79.657764, -79.684559, -79.750566, -79.721794, -79.829981, -79.778249, -79.871959, -79.927618, -79.773607, -79.772829, -79.744925, -79.744116], \"mode\": \"lines\", \"opacity\": 0.5, \"type\": \"scattergeo\"}, {\"lat\": [34.594549, 34.837125, 34.912577, 34.866221, 34.83928, 34.831018, 34.821509, 34.572029, 34.566588, 34.55599, 34.529482, 34.524073, 34.503224, 34.494379, 34.445027, 34.533652, 34.594549], \"line\": {\"color\": \"black\", \"width\": 1}, \"lon\": [-81.854002, -81.78339, -81.711694, -81.481613, -81.457257, -81.461755, -81.478454, -81.422706, -81.419829, -81.424304, -81.427545, -81.424907, -81.421139, -81.423241, -81.54043, -81.643552, -81.854002], \"mode\": \"lines\", \"opacity\": 0.5, \"type\": \"scattergeo\"}, {\"lat\": [32.48539, 32.565769, 32.612683, 32.665535, 32.704321, 32.832813, 33.02663, 33.176944, 33.17693, 33.178648, 33.17984, 33.181077, 33.18084, 33.15647, 33.06608, 33.043909, 32.858466, 32.727477, 32.647906, 32.546318, 32.500187, 32.529584, 32.516161, 32.478104, 32.47873, 32.490795, 32.496098, 32.486359, 32.47881, 32.475332, 32.470672, 32.472074, 32.476076, 32.490894, 32.497989, 32.503472, 32.497286, 32.4953, 32.496964, 32.48539], \"line\": {\"color\": \"black\", \"width\": 1}, \"lon\": [-80.47691, -80.551504, -80.659751, -80.66774, -80.826309, -80.900196, -81.082291, -80.797912, -80.795864, -80.793711, -80.793002, -80.791667, -80.790296, -80.709736, -80.6221, -80.390533, -80.40134, -80.446077, -80.389955, -80.416586, -80.352823, -80.249566, -80.277681, -80.332438, -80.338354, -80.343883, -80.363956, -80.380716, -80.386827, -80.392561, -80.413487, -80.415943, -80.417896, -80.418502, -80.423454, -80.439407, -80.452078, -80.46571, -80.472068, -80.47691], \"mode\": \"lines\", \"opacity\": 0.5, \"type\": \"scattergeo\"}, {\"lat\": [34.219676, 34.175087, 34.097207, 33.937537, 33.799123, 33.775357, 33.835562, 33.885245, 33.885717, 33.946527, 33.988017, 34.047877, 34.086013, 34.129007, 34.204112, 34.30519, 34.30119, 34.299762, 34.301299, 34.297994, 34.230913, 34.225186, 34.219676], \"line\": {\"color\": \"black\", \"width\": 1}, \"lon\": [-79.544036, -79.568984, -79.515308, -79.482549, -79.324317, -79.496486, -79.79837, -79.87562, -79.945584, -79.974601, -79.893517, -80.000594, -80.072808, -79.999789, -79.883065, -79.657764, -79.644463, -79.641751, -79.635373, -79.633413, -79.54793, -79.54404, -79.544036], \"mode\": \"lines\", \"opacity\": 0.5, \"type\": \"scattergeo\"}, {\"lat\": [33.69425, 33.703126, 33.703438, 33.710101, 33.705787, 33.571807, 33.572114, 33.566565, 33.533365, 33.523773, 33.483669, 33.461016, 33.403867, 33.378243, 33.350925, 33.332811, 33.327246, 33.254141, 33.237955, 33.206577, 33.173712, 33.166016, 33.155569, 33.137055, 33.124865, 33.110051, 33.136043, 33.184929, 33.198159, 33.215136, 33.213458, 33.304944, 33.496896, 33.572702, 33.68889, 33.779878, 33.778554, 33.775846, 33.771973, 33.76623, 33.763449, 33.75883, 33.757025, 33.754324, 33.75228, 33.750167, 33.747135, 33.743757, 33.741144, 33.739116, 33.737386, 33.735701, 33.734349, 33.732392, 33.728981, 33.723526, 33.718807, 33.717597, 33.715972, 33.716324, 33.718226, 33.721855, 33.719893, 33.717788, 33.71571, 33.714319, 33.711077, 33.708852, 33.708116, 33.708557, 33.710893, 33.710979, 33.710275, 33.707364, 33.706001, 33.704375, 33.703399, 33.703617, 33.702742, 33.703424, 33.705717, 33.706114, 33.705397, 33.703728, 33.702598, 33.701515, 33.700817, 33.699302, 33.696975, 33.695347, 33.694417, 33.69425], \"line\": {\"color\": \"black\", \"width\": 1}, \"lon\": [-79.235068, -79.208955, -79.195161, -79.199432, -79.190264, -79.100653, -79.002109, -79.007356, -79.028516, -79.041125, -79.084588, -79.10136, -79.135441, -79.147496, -79.152035, -79.158429, -79.162332, -79.180318, -79.180563, -79.172394, -79.18787, -79.195631, -79.215453, -79.238262, -79.24609, -79.290754, -79.268762, -79.404858, -79.413588, -79.438387, -79.446699, -79.677014, -79.53808, -79.435733, -79.409332, -79.317041, -79.316294, -79.313573, -79.30883, -79.306679, -79.30468, -79.300613, -79.298706, -79.294779, -79.293312, -79.292578, -79.29291, -79.294366, -79.293978, -79.290436, -79.286248, -79.286157, -79.289351, -79.29139, -79.291574, -79.288312, -79.28717, -79.286441, -79.282995, -79.280518, -79.278604, -79.271664, -79.269597, -79.269411, -79.271326, -79.274935, -79.274694, -79.275057, -79.273306, -79.271676, -79.26925, -79.266927, -79.265011, -79.264683, -79.265102, -79.267863, -79.267586, -79.261467, -79.258107, -79.24977, -79.244897, -79.243348, -79.241463, -79.240279, -79.240644, -79.242086, -79.247339, -79.249581, -79.249309, -79.246384, -79.23888, -79.235068], \"mode\": \"lines\", \"opacity\": 0.5, \"type\": \"scattergeo\"}, {\"lat\": [33.18012, 33.198148, 33.382239, 33.489652, 33.490417, 33.44, 33.160697, 33.118668, 33.108061, 33.158279, 33.092534, 33.095408, 33.116551, 33.18012], \"line\": {\"color\": \"black\", \"width\": 1}, \"lon\": [-81.772251, -81.757035, -81.516419, -81.374827, -81.372931, -81.222673, -81.227804, -81.193099, -81.364857, -81.541881, -81.615756, -81.620287, -81.696934, -81.772251], \"mode\": \"lines\", \"opacity\": 0.5, \"type\": \"scattergeo\"}, {\"lat\": [32.704321, 32.665535, 32.612683, 32.565769, 32.48539, 32.477407, 32.460976, 32.447048, 32.425259, 32.423721, 32.410659, 32.401782, 32.389667, 32.375193, 32.350335, 32.336884, 32.326458, 32.31917, 32.298796, 32.287024, 32.282076, 32.273278, 32.273549, 32.260183, 32.255618, 32.248638, 32.216783, 32.200971, 32.160427, 32.140137, 32.122494, 32.109746, 32.108589, 32.113222, 32.112709, 32.109709, 32.099581, 32.079792, 32.241923, 32.306196, 32.300369, 32.411836, 32.660935, 32.700038, 32.704321], \"line\": {\"color\": \"black\", \"width\": 1}, \"lon\": [-80.826309, -80.66774, -80.659751, -80.551504, -80.47691, -80.48025, -80.484617, -80.480156, -80.467588, -80.446075, -80.43296, -80.429941, -80.429291, -80.434303, -80.445451, -80.456814, -80.455192, -80.466342, -80.517871, -80.539429, -80.545688, -80.571096, -80.596394, -80.618286, -80.638857, -80.658634, -80.669166, -80.688857, -80.721463, -80.749091, -80.789996, -80.812503, -80.82153, -80.828394, -80.831531, -80.844431, -80.858735, -80.878111, -81.016341, -81.006432, -80.934935, -80.829489, -80.869705, -80.837033, -80.826309], \"mode\": \"lines\", \"opacity\": 0.5, \"type\": \"scattergeo\"}, {\"lat\": [33.213458, 33.215136, 33.198159, 33.184929, 33.136043, 33.110051, 33.109773, 33.089986, 33.072302, 33.065362, 33.050336, 33.006672, 33.003903, 33.006815, 33.015085, 33.007639, 33.001265, 33.015832, 33.032813, 33.03535, 33.021269, 33.006447, 32.991334, 32.979282, 32.972248, 32.952726, 32.94487, 32.934815, 32.925953, 32.926461, 32.931341, 32.934526, 32.933885, 32.926692, 32.906235, 32.888606, 32.872705, 32.850398, 32.839997, 32.835781, 32.825796, 32.813627, 32.805996, 32.77696, 32.766352, 32.756816, 32.755248, 32.757422, 32.752128, 32.745657, 32.734849, 32.727777, 32.695177, 32.684402, 32.664915, 32.639732, 32.639537, 32.626388, 32.616389, 32.611851, 32.608852, 32.610236, 32.603319, 32.590523, 32.578479, 32.559885, 32.546118, 32.553604, 32.554213, 32.555547, 32.531114, 32.529584, 32.500187, 32.546318, 32.647906, 32.727477, 32.858466, 32.818904, 32.830114, 32.84127, 32.845651, 32.927811, 33.021601, 32.999514, 32.899881, 32.90811, 32.823983, 32.87387, 33.123453, 33.148297, 33.213458], \"line\": {\"color\": \"black\", \"width\": 1}, \"lon\": [-79.446699, -79.438387, -79.413588, -79.404858, -79.268762, -79.290754, -79.291591, -79.329909, -79.337169, -79.335346, -79.339313, -79.359961, -79.403712, -79.416515, -79.423447, -79.461047, -79.483499, -79.488727, -79.506923, -79.522449, -79.55756, -79.580725, -79.58659, -79.60102, -79.606615, -79.617611, -79.617715, -79.612928, -79.606194, -79.585897, -79.581687, -79.574951, -79.572614, -79.569762, -79.576006, -79.631149, -79.655426, -79.695141, -79.699482, -79.702956, -79.719879, -79.716761, -79.726389, -79.811021, -79.818237, -79.84035, -79.848527, -79.866742, -79.872232, -79.873605, -79.868352, -79.870336, -79.888028, -79.884961, -79.915682, -79.968468, -79.975248, -79.986917, -79.99175, -79.999374, -80.010505, -80.037276, -80.077039, -80.121368, -80.148406, -80.167286, -80.171764, -80.188401, -80.193676, -80.20523, -80.246361, -80.249566, -80.352823, -80.416586, -80.389955, -80.446077, -80.40134, -80.148108, -80.158808, -80.16313, -80.17446, -80.079028, -80.149246, -80.055463, -80.011774, -79.948848, -79.928305, -79.855069, -79.643301, -79.518844, -79.446699], \"mode\": \"lines\", \"opacity\": 0.5, \"type\": \"scattergeo\"}, {\"lat\": [35.076608, 35.001566, 34.963249, 34.962894, 34.935782, 34.825281, 34.819697, 34.819646, 34.818592, 34.818568, 34.818217, 34.818239, 34.818174, 34.817481, 34.614765, 34.560116, 34.509752, 34.479957, 34.539916, 34.457776, 34.543146, 34.631781, 34.695847, 34.820746, 34.951143, 35.076608], \"line\": {\"color\": \"black\", \"width\": 1}, \"lon\": [-80.906417, -80.840461, -80.806784, -80.806461, -80.782042, -80.79675, -80.777712, -80.771792, -80.646601, -80.644656, -80.626077, -80.625993, -80.621222, -80.561674, -80.408373, -80.550552, -80.523945, -80.739966, -80.743345, -80.879227, -80.877491, -80.896406, -80.860274, -80.898215, -80.868652, -80.906417], \"mode\": \"lines\", \"opacity\": 0.5, \"type\": \"scattergeo\"}, {\"lat\": [35.109102, 35.103205, 35.100617, 35.096276, 35.086129, 35.07319, 35.061983, 35.044703, 35.092639, 35.107409, 35.076763, 35.076608, 34.951143, 34.820746, 34.821509, 34.831018, 34.83928, 35.029516, 35.046396, 35.164889, 35.163404, 35.16114, 35.160081, 35.159974, 35.152627, 35.14839, 35.146042, 35.109102], \"line\": {\"color\": \"black\", \"width\": 1}, \"lon\": [-81.032547, -81.036163, -81.046524, -81.052078, -81.057236, -81.058029, -81.057465, -81.041489, -80.95787, -80.93495, -80.906553, -80.906417, -80.868652, -80.898215, -81.478454, -81.461755, -81.457257, -81.488434, -81.409586, -81.366599, -81.32802, -81.269199, -81.241686, -81.239358, -81.090215, -81.043407, -81.042758, -81.032547], \"mode\": \"lines\", \"opacity\": 0.5, \"type\": \"scattergeo\"}, {\"lat\": [34.197587, 34.097381, 34.07795, 34.005253, 33.88008, 33.747053, 33.755583, 33.707131, 33.695315, 33.652937, 33.732161, 33.825522, 33.826967, 33.829799, 33.832154, 33.837454, 33.841496, 33.844531, 33.845608, 33.848407, 33.851915, 33.858683, 33.860657, 33.860547, 33.862645, 33.865324, 33.871845, 33.87723, 34.076552, 34.080227, 34.129963, 34.197587], \"line\": {\"color\": \"black\", \"width\": 1}, \"lon\": [-81.338961, -81.275845, -81.153617, -81.059715, -81.01233, -81.058521, -80.926321, -81.042854, -81.086803, -81.187271, -81.415308, -81.522124, -81.52286, -81.527148, -81.53359, -81.534438, -81.538291, -81.538679, -81.540866, -81.542263, -81.540865, -81.546946, -81.551552, -81.554531, -81.560733, -81.563671, -81.569149, -81.571485, -81.471972, -81.388564, -81.437172, -81.338961], \"mode\": \"lines\", \"opacity\": 0.5, \"type\": \"scattergeo\"}, {\"lat\": [34.219676, 34.225186, 34.230913, 34.288081, 34.300572, 34.253652, 34.241458, 34.235362, 33.969722, 33.705787, 33.710101, 33.703438, 33.703126, 33.69425, 33.694417, 33.695347, 33.696975, 33.699302, 33.700817, 33.701515, 33.702598, 33.703728, 33.705397, 33.706114, 33.705717, 33.703424, 33.702742, 33.703617, 33.703399, 33.704375, 33.706001, 33.707364, 33.710275, 33.710979, 33.710893, 33.708557, 33.708116, 33.708852, 33.711077, 33.714319, 33.71571, 33.717788, 33.719893, 33.721855, 33.718226, 33.716324, 33.715972, 33.717597, 33.718807, 33.723526, 33.728981, 33.732392, 33.734349, 33.735701, 33.737386, 33.739116, 33.741144, 33.743757, 33.747135, 33.750167, 33.75228, 33.754324, 33.757025, 33.75883, 33.763449, 33.76623, 33.771973, 33.775846, 33.778554, 33.779878, 33.785434, 33.789247, 33.790511, 33.794965, 33.799123, 33.937537, 34.097207, 34.175087, 34.219676], \"line\": {\"color\": \"black\", \"width\": 1}, \"lon\": [-79.544036, -79.54404, -79.54793, -79.480712, -79.380264, -79.128165, -79.135118, -79.126681, -79.339076, -79.190264, -79.199432, -79.195161, -79.208955, -79.235068, -79.23888, -79.246384, -79.249309, -79.249581, -79.247339, -79.242086, -79.240644, -79.240279, -79.241463, -79.243348, -79.244897, -79.24977, -79.258107, -79.261467, -79.267586, -79.267863, -79.265102, -79.264683, -79.265011, -79.266927, -79.26925, -79.271676, -79.273306, -79.275057, -79.274694, -79.274935, -79.271326, -79.269411, -79.269597, -79.271664, -79.278604, -79.280518, -79.282995, -79.286441, -79.28717, -79.288312, -79.291574, -79.29139, -79.289351, -79.286157, -79.286248, -79.290436, -79.293978, -79.294366, -79.29291, -79.292578, -79.293312, -79.294779, -79.298706, -79.300613, -79.30468, -79.306679, -79.30883, -79.313573, -79.316294, -79.317041, -79.319664, -79.323081, -79.320443, -79.323988, -79.324317, -79.482549, -79.515308, -79.568984, -79.544036], \"mode\": \"lines\", \"opacity\": 0.5, \"type\": \"scattergeo\"}, {\"lat\": [35.068177, 35.073973, 35.015696, 34.819475, 34.672017, 34.623212, 34.74244, 34.971836, 35.056021, 35.084585, 35.084492, 35.076885, 35.073674, 35.069043, 35.066817, 35.068177], \"line\": {\"color\": \"black\", \"width\": 1}, \"lon\": [-82.764464, -82.588598, -82.537866, -82.486746, -82.788664, -82.840253, -82.900144, -82.915785, -82.897499, -82.78113, -82.781062, -82.777407, -82.779116, -82.780546, -82.781973, -82.764464], \"mode\": \"lines\", \"opacity\": 0.5, \"type\": \"scattergeo\"}, {\"lat\": [33.213458, 33.148297, 33.123453, 32.87387, 32.823983, 32.90811, 32.899881, 32.999514, 33.021601, 33.119213, 33.130274, 33.257443, 33.29926, 33.443716, 33.496891, 33.500937, 33.329699, 33.304944, 33.213458], \"line\": {\"color\": \"black\", \"width\": 1}, \"lon\": [-79.446699, -79.518844, -79.643301, -79.855069, -79.928305, -79.948848, -80.011774, -80.055463, -80.149246, -80.279567, -80.299248, -80.361851, -80.253836, -80.222267, -80.101697, -79.971963, -79.756172, -79.677014, -79.446699], \"mode\": \"lines\", \"opacity\": 0.5, \"type\": \"scattergeo\"}, {\"hoverinfo\": \"text\", \"lat\": [32.99029455029952, 33.22033695531089, 33.666156316297425, 34.391434026119256, 32.77499517007042, 32.42995697026728, 33.43907882067382, 34.00757714985861, 34.33413436248769, 33.07762760050637, 33.772136561525976, 34.33980772980491, 34.17089010473481, 33.901066415197576, 34.28724382552811, 34.75536746151503, 34.01833693308043, 34.932709963783545, 33.9186728090913, 33.614824711991176, 34.22485618563562, 33.540554401242304, 34.51765728009019, 33.67321400593284, 34.691223112732466, 34.64019390823905, 35.04974682306474, 34.39102231920796, 34.89104867731327, 34.149788109164874, 33.91939495304242, 34.48125837853395, 34.60403045654097, 34.68732714367059, 32.86928582527485, 34.02010123083099, 33.43100348340247, 33.26573323785141, 32.38989842772185, 32.83230911973316, 34.687041407698466, 34.97439662892535, 33.89810184286564, 34.08007844319205, 34.887143912247595, 33.19826219496264], \"lon\": [-81.35409318076069, -81.06173428301263, -80.21732867194231, -81.11635659322407, -81.14125832000747, -81.03015755977401, -80.80110088456121, -81.72554770522893, -79.94766203100053, -80.40264621104588, -81.9637609055562, -80.59071958892434, -80.25727652526221, -82.30970462286486, -81.59608974797503, -83.06965243844782, -80.90355574542349, -81.99304774386157, -80.38154084718205, -79.72977640881734, -82.46049779491187, -81.63829900450047, -82.63864434573149, -80.77926724954543, -81.16065821958438, -80.15513657221686, -81.61753483635475, -79.38129693944546, -82.36787898993309, -82.12589582437793, -78.99835195755458, -82.00548575216864, -79.67503780987839, -81.61941198857592, -80.66791449189651, -79.70327261780876, -79.33229255547403, -81.43664690856407, -80.72696829521571, -79.95161252403413, -80.70532152043123, -81.18075193914669, -81.27523213870799, -79.36075476861357, -82.72608330449034, -79.95243934238543], \"marker\": {\"color\": \"rgba(255, 255, 255, 100)\", \"line\": {\"color\": \"rgba(0, 0, 0, 50)\", \"width\": 1}, \"size\": 6}, \"mode\": \"markers\", \"text\": [\"Allendale\", \"Bamberg\", \"Clarendon\", \"Fairfield\", \"Hampton\", \"Jasper\", \"Orangeburg\", \"Saluda\", \"Darlington\", \"Dorchester\", \"Edgefield\", \"Kershaw\", \"Lee\", \"McCormick\", \"Newberry\", \"Oconee\", \"Richland\", \"Spartanburg\", \"Sumter\", \"Williamsburg\", \"Abbeville\", \"Aiken\", \"Anderson\", \"Calhoun\", \"Chester\", \"Chesterfield\", \"Cherokee\", \"Dillon\", \"Greenville\", \"Greenwood\", \"Horry\", \"Laurens\", \"Marlboro\", \"Union\", \"Colleton\", \"Florence\", \"Georgetown\", \"Barnwell\", \"Beaufort\", \"Charleston\", \"Lancaster\", \"York\", \"Lexington\", \"Marion\", \"Pickens\", \"Berkeley\"], \"type\": \"scattergeo\"}],\n",
              "                        {\"geo\": {\"center\": {\"lat\": 33, \"lon\": -81}, \"coastlinewidth\": 0, \"countrycolor\": \"rgba(204, 204, 204, 0)\", \"countrywidth\": 0, \"landcolor\": \"rgba(243, 243, 243, 0)\", \"projection\": {\"type\": \"azimuthal equal area\"}, \"scope\": \"north america\", \"showland\": false}, \"height\": 1000, \"template\": {\"data\": {\"bar\": [{\"error_x\": {\"color\": \"#2a3f5f\"}, \"error_y\": {\"color\": \"#2a3f5f\"}, \"marker\": {\"line\": {\"color\": \"#E5ECF6\", \"width\": 0.5}}, \"type\": \"bar\"}], \"barpolar\": [{\"marker\": {\"line\": {\"color\": \"#E5ECF6\", \"width\": 0.5}}, \"type\": \"barpolar\"}], \"carpet\": [{\"aaxis\": {\"endlinecolor\": \"#2a3f5f\", \"gridcolor\": \"white\", \"linecolor\": \"white\", \"minorgridcolor\": \"white\", \"startlinecolor\": \"#2a3f5f\"}, \"baxis\": {\"endlinecolor\": \"#2a3f5f\", \"gridcolor\": \"white\", \"linecolor\": \"white\", \"minorgridcolor\": \"white\", \"startlinecolor\": \"#2a3f5f\"}, \"type\": \"carpet\"}], \"choropleth\": [{\"colorbar\": {\"outlinewidth\": 0, \"ticks\": \"\"}, \"type\": \"choropleth\"}], \"contour\": [{\"colorbar\": {\"outlinewidth\": 0, \"ticks\": \"\"}, \"colorscale\": [[0.0, \"#0d0887\"], [0.1111111111111111, \"#46039f\"], [0.2222222222222222, \"#7201a8\"], [0.3333333333333333, \"#9c179e\"], [0.4444444444444444, \"#bd3786\"], [0.5555555555555556, \"#d8576b\"], [0.6666666666666666, \"#ed7953\"], [0.7777777777777778, \"#fb9f3a\"], [0.8888888888888888, \"#fdca26\"], [1.0, \"#f0f921\"]], \"type\": \"contour\"}], \"contourcarpet\": [{\"colorbar\": {\"outlinewidth\": 0, \"ticks\": \"\"}, \"type\": \"contourcarpet\"}], \"heatmap\": [{\"colorbar\": {\"outlinewidth\": 0, \"ticks\": \"\"}, \"colorscale\": [[0.0, \"#0d0887\"], [0.1111111111111111, \"#46039f\"], [0.2222222222222222, \"#7201a8\"], [0.3333333333333333, \"#9c179e\"], [0.4444444444444444, \"#bd3786\"], [0.5555555555555556, \"#d8576b\"], [0.6666666666666666, \"#ed7953\"], [0.7777777777777778, \"#fb9f3a\"], [0.8888888888888888, \"#fdca26\"], [1.0, \"#f0f921\"]], \"type\": \"heatmap\"}], \"heatmapgl\": [{\"colorbar\": {\"outlinewidth\": 0, \"ticks\": \"\"}, \"colorscale\": [[0.0, \"#0d0887\"], [0.1111111111111111, \"#46039f\"], [0.2222222222222222, \"#7201a8\"], [0.3333333333333333, \"#9c179e\"], [0.4444444444444444, \"#bd3786\"], [0.5555555555555556, \"#d8576b\"], [0.6666666666666666, \"#ed7953\"], [0.7777777777777778, \"#fb9f3a\"], [0.8888888888888888, \"#fdca26\"], [1.0, \"#f0f921\"]], \"type\": \"heatmapgl\"}], \"histogram\": [{\"marker\": {\"colorbar\": {\"outlinewidth\": 0, \"ticks\": \"\"}}, \"type\": \"histogram\"}], \"histogram2d\": [{\"colorbar\": {\"outlinewidth\": 0, \"ticks\": \"\"}, \"colorscale\": [[0.0, \"#0d0887\"], [0.1111111111111111, \"#46039f\"], [0.2222222222222222, \"#7201a8\"], [0.3333333333333333, \"#9c179e\"], [0.4444444444444444, \"#bd3786\"], [0.5555555555555556, \"#d8576b\"], [0.6666666666666666, \"#ed7953\"], [0.7777777777777778, \"#fb9f3a\"], [0.8888888888888888, \"#fdca26\"], [1.0, \"#f0f921\"]], \"type\": \"histogram2d\"}], \"histogram2dcontour\": [{\"colorbar\": {\"outlinewidth\": 0, \"ticks\": \"\"}, \"colorscale\": [[0.0, \"#0d0887\"], [0.1111111111111111, \"#46039f\"], [0.2222222222222222, \"#7201a8\"], [0.3333333333333333, \"#9c179e\"], [0.4444444444444444, \"#bd3786\"], [0.5555555555555556, \"#d8576b\"], [0.6666666666666666, \"#ed7953\"], [0.7777777777777778, \"#fb9f3a\"], [0.8888888888888888, \"#fdca26\"], [1.0, \"#f0f921\"]], \"type\": \"histogram2dcontour\"}], \"mesh3d\": [{\"colorbar\": {\"outlinewidth\": 0, \"ticks\": \"\"}, \"type\": \"mesh3d\"}], \"parcoords\": [{\"line\": {\"colorbar\": {\"outlinewidth\": 0, \"ticks\": \"\"}}, \"type\": \"parcoords\"}], \"pie\": [{\"automargin\": true, \"type\": \"pie\"}], \"scatter\": [{\"marker\": {\"colorbar\": {\"outlinewidth\": 0, \"ticks\": \"\"}}, \"type\": \"scatter\"}], \"scatter3d\": [{\"line\": {\"colorbar\": {\"outlinewidth\": 0, \"ticks\": \"\"}}, \"marker\": {\"colorbar\": {\"outlinewidth\": 0, \"ticks\": \"\"}}, \"type\": \"scatter3d\"}], \"scattercarpet\": [{\"marker\": {\"colorbar\": {\"outlinewidth\": 0, \"ticks\": \"\"}}, \"type\": \"scattercarpet\"}], \"scattergeo\": [{\"marker\": {\"colorbar\": {\"outlinewidth\": 0, \"ticks\": \"\"}}, \"type\": \"scattergeo\"}], \"scattergl\": [{\"marker\": {\"colorbar\": {\"outlinewidth\": 0, \"ticks\": \"\"}}, \"type\": \"scattergl\"}], \"scattermapbox\": [{\"marker\": {\"colorbar\": {\"outlinewidth\": 0, \"ticks\": \"\"}}, \"type\": \"scattermapbox\"}], \"scatterpolar\": [{\"marker\": {\"colorbar\": {\"outlinewidth\": 0, \"ticks\": \"\"}}, \"type\": \"scatterpolar\"}], \"scatterpolargl\": [{\"marker\": {\"colorbar\": {\"outlinewidth\": 0, \"ticks\": \"\"}}, \"type\": \"scatterpolargl\"}], \"scatterternary\": [{\"marker\": {\"colorbar\": {\"outlinewidth\": 0, \"ticks\": \"\"}}, \"type\": \"scatterternary\"}], \"surface\": [{\"colorbar\": {\"outlinewidth\": 0, \"ticks\": \"\"}, \"colorscale\": [[0.0, \"#0d0887\"], [0.1111111111111111, \"#46039f\"], [0.2222222222222222, \"#7201a8\"], [0.3333333333333333, \"#9c179e\"], [0.4444444444444444, \"#bd3786\"], [0.5555555555555556, \"#d8576b\"], [0.6666666666666666, \"#ed7953\"], [0.7777777777777778, \"#fb9f3a\"], [0.8888888888888888, \"#fdca26\"], [1.0, \"#f0f921\"]], \"type\": \"surface\"}], \"table\": [{\"cells\": {\"fill\": {\"color\": \"#EBF0F8\"}, \"line\": {\"color\": \"white\"}}, \"header\": {\"fill\": {\"color\": \"#C8D4E3\"}, \"line\": {\"color\": \"white\"}}, \"type\": \"table\"}]}, \"layout\": {\"annotationdefaults\": {\"arrowcolor\": \"#2a3f5f\", \"arrowhead\": 0, \"arrowwidth\": 1}, \"coloraxis\": {\"colorbar\": {\"outlinewidth\": 0, \"ticks\": \"\"}}, \"colorscale\": {\"diverging\": [[0, \"#8e0152\"], [0.1, \"#c51b7d\"], [0.2, \"#de77ae\"], [0.3, \"#f1b6da\"], [0.4, \"#fde0ef\"], [0.5, \"#f7f7f7\"], [0.6, \"#e6f5d0\"], [0.7, \"#b8e186\"], [0.8, \"#7fbc41\"], [0.9, \"#4d9221\"], [1, \"#276419\"]], \"sequential\": [[0.0, \"#0d0887\"], [0.1111111111111111, \"#46039f\"], [0.2222222222222222, \"#7201a8\"], [0.3333333333333333, \"#9c179e\"], [0.4444444444444444, \"#bd3786\"], [0.5555555555555556, \"#d8576b\"], [0.6666666666666666, \"#ed7953\"], [0.7777777777777778, \"#fb9f3a\"], [0.8888888888888888, \"#fdca26\"], [1.0, \"#f0f921\"]], \"sequentialminus\": [[0.0, \"#0d0887\"], [0.1111111111111111, \"#46039f\"], [0.2222222222222222, \"#7201a8\"], [0.3333333333333333, \"#9c179e\"], [0.4444444444444444, \"#bd3786\"], [0.5555555555555556, \"#d8576b\"], [0.6666666666666666, \"#ed7953\"], [0.7777777777777778, \"#fb9f3a\"], [0.8888888888888888, \"#fdca26\"], [1.0, \"#f0f921\"]]}, \"colorway\": [\"#636efa\", \"#EF553B\", \"#00cc96\", \"#ab63fa\", \"#FFA15A\", \"#19d3f3\", \"#FF6692\", \"#B6E880\", \"#FF97FF\", \"#FECB52\"], \"font\": {\"color\": \"#2a3f5f\"}, \"geo\": {\"bgcolor\": \"white\", \"lakecolor\": \"white\", \"landcolor\": \"#E5ECF6\", \"showlakes\": true, \"showland\": true, \"subunitcolor\": \"white\"}, \"hoverlabel\": {\"align\": \"left\"}, \"hovermode\": \"closest\", \"mapbox\": {\"style\": \"light\"}, \"paper_bgcolor\": \"white\", \"plot_bgcolor\": \"#E5ECF6\", \"polar\": {\"angularaxis\": {\"gridcolor\": \"white\", \"linecolor\": \"white\", \"ticks\": \"\"}, \"bgcolor\": \"#E5ECF6\", \"radialaxis\": {\"gridcolor\": \"white\", \"linecolor\": \"white\", \"ticks\": \"\"}}, \"scene\": {\"xaxis\": {\"backgroundcolor\": \"#E5ECF6\", \"gridcolor\": \"white\", \"gridwidth\": 2, \"linecolor\": \"white\", \"showbackground\": true, \"ticks\": \"\", \"zerolinecolor\": \"white\"}, \"yaxis\": {\"backgroundcolor\": \"#E5ECF6\", \"gridcolor\": \"white\", \"gridwidth\": 2, \"linecolor\": \"white\", \"showbackground\": true, \"ticks\": \"\", \"zerolinecolor\": \"white\"}, \"zaxis\": {\"backgroundcolor\": \"#E5ECF6\", \"gridcolor\": \"white\", \"gridwidth\": 2, \"linecolor\": \"white\", \"showbackground\": true, \"ticks\": \"\", \"zerolinecolor\": \"white\"}}, \"shapedefaults\": {\"line\": {\"color\": \"#2a3f5f\"}}, \"ternary\": {\"aaxis\": {\"gridcolor\": \"white\", \"linecolor\": \"white\", \"ticks\": \"\"}, \"baxis\": {\"gridcolor\": \"white\", \"linecolor\": \"white\", \"ticks\": \"\"}, \"bgcolor\": \"#E5ECF6\", \"caxis\": {\"gridcolor\": \"white\", \"linecolor\": \"white\", \"ticks\": \"\"}}, \"title\": {\"x\": 0.05}, \"xaxis\": {\"automargin\": true, \"gridcolor\": \"white\", \"linecolor\": \"white\", \"ticks\": \"\", \"title\": {\"standoff\": 15}, \"zerolinecolor\": \"white\", \"zerolinewidth\": 2}, \"yaxis\": {\"automargin\": true, \"gridcolor\": \"white\", \"linecolor\": \"white\", \"ticks\": \"\", \"title\": {\"standoff\": 15}, \"zerolinecolor\": \"white\", \"zerolinewidth\": 2}}}, \"title\": {\"text\": \"South Carolina Counties' Neighbor Network\"}, \"width\": 1600},\n",
              "                        {\"responsive\": true}\n",
              "                    ).then(function(){\n",
              "                            \n",
              "var gd = document.getElementById('8a064980-0090-48eb-94b5-20ba677a3a28');\n",
              "var x = new MutationObserver(function (mutations, observer) {{\n",
              "        var display = window.getComputedStyle(gd).display;\n",
              "        if (!display || display === 'none') {{\n",
              "            console.log([gd, 'removed!']);\n",
              "            Plotly.purge(gd);\n",
              "            observer.disconnect();\n",
              "        }}\n",
              "}});\n",
              "\n",
              "// Listen for the removal of the full notebook cells\n",
              "var notebookContainer = gd.closest('#notebook-container');\n",
              "if (notebookContainer) {{\n",
              "    x.observe(notebookContainer, {childList: true});\n",
              "}}\n",
              "\n",
              "// Listen for the clearing of the current output cell\n",
              "var outputEl = gd.closest('.output');\n",
              "if (outputEl) {{\n",
              "    x.observe(outputEl, {childList: true});\n",
              "}}\n",
              "\n",
              "                        })\n",
              "                };\n",
              "                \n",
              "            </script>\n",
              "        </div>\n",
              "</body>\n",
              "</html>"
            ]
          },
          "metadata": {
            "tags": []
          }
        }
      ]
    }
  ]
}